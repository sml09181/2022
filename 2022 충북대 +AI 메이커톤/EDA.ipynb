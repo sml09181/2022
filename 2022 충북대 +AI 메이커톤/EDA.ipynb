{
 "cells": [
  {
   "cell_type": "code",
   "execution_count": 1,
   "id": "dfae7c06",
   "metadata": {},
   "outputs": [],
   "source": [
    "import numpy as np\n",
    "import pandas as pd\n",
    "import matplotlib.pyplot as plt\n",
    "import scikitplot as skplt\n",
    "import seaborn as sns\n",
    "import math\n",
    "from scipy import interpolate\n",
    "from datetime import datetime\n",
    "from sklearn.preprocessing import LabelEncoder\n",
    "from sklearn.metrics import mean_squared_error, mean_absolute_error\n",
    "from collections import Counter\n",
    "%matplotlib inline\n",
    "\n",
    "train = pd.read_csv(\"Dataset_Training.csv\")"
   ]
  },
  {
   "cell_type": "code",
   "execution_count": 2,
   "id": "4315424d",
   "metadata": {},
   "outputs": [],
   "source": [
    "from ipywidgets import interact\n",
    "from tqdm.notebook import tqdm"
   ]
  },
  {
   "cell_type": "code",
   "execution_count": 3,
   "id": "9b2921f9",
   "metadata": {},
   "outputs": [],
   "source": [
    "# pip install scikit-plot 설치해주기!"
   ]
  },
  {
   "cell_type": "code",
   "execution_count": 4,
   "id": "137a9c8f",
   "metadata": {},
   "outputs": [],
   "source": [
    "# conda install -c conda-forge kaggle"
   ]
  },
  {
   "cell_type": "markdown",
   "id": "ccd274a1",
   "metadata": {},
   "source": [
    "make_time / holiday: https://dacon.io/competitions/official/235736/codeshare/2835?page=1&dtype=recent"
   ]
  },
  {
   "cell_type": "code",
   "execution_count": 5,
   "id": "46a2bfc3",
   "metadata": {},
   "outputs": [],
   "source": [
    "# adding features related to datetime\n",
    "status_map = {\n",
    "    'abnormal' : 1,\n",
    "    'normal' : 0\n",
    "}\n",
    "def make_time(df):\n",
    "    for i in range(2,7):\n",
    "        df['HHMMSS'] = df['HHMMSS'].astype('str').str.zfill(i)\n",
    "    df['YYYYMMDD'] = df['YYYYMMDD'].astype('str')\n",
    "    hhmmss = df['HHMMSS'].values.tolist()\n",
    "    yyyymmdd = df['YYYYMMDD'].values.tolist()\n",
    "    for i in range(len(df)):\n",
    "        hhmmss[i] = hhmmss[i][:2]+':'+hhmmss[i][2:4]+':'+hhmmss[i][4:]\n",
    "        yyyymmdd[i] = yyyymmdd[i][:4]+'-'+yyyymmdd[i][4:6]+'-'+yyyymmdd[i][6:]+' '\n",
    "    df['HHMMSS'] = hhmmss\n",
    "    df['YYYYMMDD'] = yyyymmdd\n",
    "    df['Time'] = df['YYYYMMDD'] + df['HHMMSS']\n",
    "    df = df.drop(['YYYYMMDD','HHMMSS'], axis=1)\n",
    "    df['Time'] = pd.to_datetime(df['Time'], format='%Y-%m-%d %H:%M:%S')\n",
    "    df['month'] = df['Time'].dt.month\n",
    "    df['day'] = df['Time'].dt.day\n",
    "    df['hour'] = df['Time'].dt.hour\n",
    "    df['min'] = df['Time'].dt.minute\n",
    "    df['second'] = df['Time'].dt.second\n",
    "    df['dayofyear'] = df['Time'].dt.dayofyear \n",
    "    df['weekday'] = df['Time'].dt.weekday\n",
    "    df.set_index('Time', inplace=True)\n",
    "    # https://rudolf-2434.tistory.com/12\n",
    "    df['status'] = df['status'].map(status_map)\n",
    "    df.rename(columns={'status':'target'})\n",
    "    return df"
   ]
  },
  {
   "cell_type": "markdown",
   "id": "9e45e5ba",
   "metadata": {},
   "source": [
    "status열은 normal = 1, abnormal= 0으로 바꿔서 target열로 바꿔줬다.\n",
    "\n",
    "train+test 데이터의 기간이 18/06/15~18/09/13까지이므로 그 날짜에 해당하는 공휴일들도 추가해준다.\n",
    "- 6/6: 현충일\n",
    "- 6/13: 지방선거\n",
    "- 8/15 : 광복절\n",
    "\n",
    "휴일은 아니지만 주의해야할 날들\n",
    "- 7/17: 제헌절, 초복\n",
    "- 7/27: 중복\n",
    "- 8/16: 말복"
   ]
  },
  {
   "cell_type": "code",
   "execution_count": 6,
   "id": "26ed48b5",
   "metadata": {},
   "outputs": [],
   "source": [
    "def holiday(df):\n",
    "    df.loc[df.weekday >= 5, 'holiday'] = 1\n",
    "    df.loc[df.weekday < 5, 'holiday'] = 0\n",
    "    df.loc[(df.month == 6) & (train.day == 6), 'holiday'] = 1\n",
    "    df.loc[(df.month == 6) & (train.day == 13), 'holiday'] = 1\n",
    "    df.loc[(df.month == 8) & (train.day == 15), 'holiday'] = 1\n",
    "    return df"
   ]
  },
  {
   "cell_type": "code",
   "execution_count": 7,
   "id": "6c286438",
   "metadata": {},
   "outputs": [],
   "source": [
    "train = make_time(train)\n",
    "train = holiday(train)"
   ]
  },
  {
   "cell_type": "code",
   "execution_count": 8,
   "id": "6e521f34",
   "metadata": {
    "scrolled": true
   },
   "outputs": [],
   "source": [
    "eda = train.copy()\n",
    "eda = eda.dropna()\n",
    "train_q = eda.copy()"
   ]
  },
  {
   "cell_type": "markdown",
   "id": "a75ae681",
   "metadata": {},
   "source": [
    "## 결측치 확인"
   ]
  },
  {
   "cell_type": "markdown",
   "id": "7edb138e",
   "metadata": {},
   "source": [
    "https://ettrends.etri.re.kr/ettrends/191/0905191014/145-153_%EA%B9%80%EC%97%90%EB%8D%B4.pdf\n",
    "https://sosoeasy.tistory.com/444\n",
    "- 완전무작위 결측 같아서 일단 삭제하고 진행하고, 아닐 경우에 대비하여 다른 보완법도 몇 가지 해봐야 함.\n",
    "- 결측치에서 cpu나 memory가 너무 비정상이라 기록이 안 되었을 확률 고려해야 함."
   ]
  },
  {
   "cell_type": "code",
   "execution_count": 9,
   "id": "fd58aa95",
   "metadata": {},
   "outputs": [
    {
     "data": {
      "text/html": [
       "<div>\n",
       "<style scoped>\n",
       "    .dataframe tbody tr th:only-of-type {\n",
       "        vertical-align: middle;\n",
       "    }\n",
       "\n",
       "    .dataframe tbody tr th {\n",
       "        vertical-align: top;\n",
       "    }\n",
       "\n",
       "    .dataframe thead th {\n",
       "        text-align: right;\n",
       "    }\n",
       "</style>\n",
       "<table border=\"1\" class=\"dataframe\">\n",
       "  <thead>\n",
       "    <tr style=\"text-align: right;\">\n",
       "      <th></th>\n",
       "      <th>CPU</th>\n",
       "      <th>Memory</th>\n",
       "      <th>status</th>\n",
       "      <th>month</th>\n",
       "      <th>day</th>\n",
       "      <th>hour</th>\n",
       "      <th>min</th>\n",
       "      <th>second</th>\n",
       "      <th>dayofyear</th>\n",
       "      <th>weekday</th>\n",
       "      <th>holiday</th>\n",
       "    </tr>\n",
       "    <tr>\n",
       "      <th>Time</th>\n",
       "      <th></th>\n",
       "      <th></th>\n",
       "      <th></th>\n",
       "      <th></th>\n",
       "      <th></th>\n",
       "      <th></th>\n",
       "      <th></th>\n",
       "      <th></th>\n",
       "      <th></th>\n",
       "      <th></th>\n",
       "      <th></th>\n",
       "    </tr>\n",
       "  </thead>\n",
       "  <tbody>\n",
       "    <tr>\n",
       "      <th>2018-06-29 11:35:00</th>\n",
       "      <td>NaN</td>\n",
       "      <td>12.0</td>\n",
       "      <td>0</td>\n",
       "      <td>6</td>\n",
       "      <td>29</td>\n",
       "      <td>11</td>\n",
       "      <td>35</td>\n",
       "      <td>0</td>\n",
       "      <td>180</td>\n",
       "      <td>4</td>\n",
       "      <td>0.0</td>\n",
       "    </tr>\n",
       "    <tr>\n",
       "      <th>2018-07-31 15:10:00</th>\n",
       "      <td>NaN</td>\n",
       "      <td>5.0</td>\n",
       "      <td>0</td>\n",
       "      <td>7</td>\n",
       "      <td>31</td>\n",
       "      <td>15</td>\n",
       "      <td>10</td>\n",
       "      <td>0</td>\n",
       "      <td>212</td>\n",
       "      <td>1</td>\n",
       "      <td>0.0</td>\n",
       "    </tr>\n",
       "    <tr>\n",
       "      <th>2018-08-21 09:55:00</th>\n",
       "      <td>30.0</td>\n",
       "      <td>NaN</td>\n",
       "      <td>0</td>\n",
       "      <td>8</td>\n",
       "      <td>21</td>\n",
       "      <td>9</td>\n",
       "      <td>55</td>\n",
       "      <td>0</td>\n",
       "      <td>233</td>\n",
       "      <td>1</td>\n",
       "      <td>0.0</td>\n",
       "    </tr>\n",
       "  </tbody>\n",
       "</table>\n",
       "</div>"
      ],
      "text/plain": [
       "                      CPU  Memory  status  month  day  hour  min  second  \\\n",
       "Time                                                                       \n",
       "2018-06-29 11:35:00   NaN    12.0       0      6   29    11   35       0   \n",
       "2018-07-31 15:10:00   NaN     5.0       0      7   31    15   10       0   \n",
       "2018-08-21 09:55:00  30.0     NaN       0      8   21     9   55       0   \n",
       "\n",
       "                     dayofyear  weekday  holiday  \n",
       "Time                                              \n",
       "2018-06-29 11:35:00        180        4      0.0  \n",
       "2018-07-31 15:10:00        212        1      0.0  \n",
       "2018-08-21 09:55:00        233        1      0.0  "
      ]
     },
     "execution_count": 9,
     "metadata": {},
     "output_type": "execute_result"
    }
   ],
   "source": [
    "train[train['CPU'].isnull() | (train['Memory'].isnull())]"
   ]
  },
  {
   "cell_type": "markdown",
   "id": "b89b42bd",
   "metadata": {},
   "source": [
    "## 결측치 채우기"
   ]
  },
  {
   "cell_type": "code",
   "execution_count": null,
   "id": "ba70ff20",
   "metadata": {},
   "outputs": [],
   "source": []
  },
  {
   "cell_type": "markdown",
   "id": "3fe98cea",
   "metadata": {},
   "source": [
    "https://www.dacon.io/competitions/official/235736/codeshare/2844?page=2&dtype=recent"
   ]
  },
  {
   "cell_type": "markdown",
   "id": "55997aa5",
   "metadata": {},
   "source": [
    "우선 train 데이터에 임의로 결측치를 생성하도록 하겠습니다."
   ]
  },
  {
   "cell_type": "code",
   "execution_count": 10,
   "id": "cd6503f0",
   "metadata": {},
   "outputs": [],
   "source": [
    "def make_train_nan(col, n):\n",
    "    new_list = []\n",
    "    for idx, temp in enumerate(eda[col]):\n",
    "        if (idx%n!=0) or (idx == 0):\n",
    "            new_list.append(temp)\n",
    "        else:\n",
    "            new_list.append(np.nan)\n",
    "    eda['{}'.format(col+'_nan')] = new_list"
   ]
  },
  {
   "cell_type": "code",
   "execution_count": 11,
   "id": "590b5c71",
   "metadata": {},
   "outputs": [],
   "source": [
    "make_train_nan('CPU',3)\n",
    "make_train_nan('Memory',3)"
   ]
  },
  {
   "cell_type": "code",
   "execution_count": 12,
   "id": "ab144d8d",
   "metadata": {},
   "outputs": [
    {
     "data": {
      "text/html": [
       "<div>\n",
       "<style scoped>\n",
       "    .dataframe tbody tr th:only-of-type {\n",
       "        vertical-align: middle;\n",
       "    }\n",
       "\n",
       "    .dataframe tbody tr th {\n",
       "        vertical-align: top;\n",
       "    }\n",
       "\n",
       "    .dataframe thead th {\n",
       "        text-align: right;\n",
       "    }\n",
       "</style>\n",
       "<table border=\"1\" class=\"dataframe\">\n",
       "  <thead>\n",
       "    <tr style=\"text-align: right;\">\n",
       "      <th></th>\n",
       "      <th>CPU</th>\n",
       "      <th>Memory</th>\n",
       "      <th>status</th>\n",
       "      <th>month</th>\n",
       "      <th>day</th>\n",
       "      <th>hour</th>\n",
       "      <th>min</th>\n",
       "      <th>second</th>\n",
       "      <th>dayofyear</th>\n",
       "      <th>weekday</th>\n",
       "      <th>holiday</th>\n",
       "      <th>CPU_nan</th>\n",
       "      <th>Memory_nan</th>\n",
       "    </tr>\n",
       "    <tr>\n",
       "      <th>Time</th>\n",
       "      <th></th>\n",
       "      <th></th>\n",
       "      <th></th>\n",
       "      <th></th>\n",
       "      <th></th>\n",
       "      <th></th>\n",
       "      <th></th>\n",
       "      <th></th>\n",
       "      <th></th>\n",
       "      <th></th>\n",
       "      <th></th>\n",
       "      <th></th>\n",
       "      <th></th>\n",
       "    </tr>\n",
       "  </thead>\n",
       "  <tbody>\n",
       "    <tr>\n",
       "      <th>2018-06-15 00:00:00</th>\n",
       "      <td>17.0</td>\n",
       "      <td>2.0</td>\n",
       "      <td>0</td>\n",
       "      <td>6</td>\n",
       "      <td>15</td>\n",
       "      <td>0</td>\n",
       "      <td>0</td>\n",
       "      <td>0</td>\n",
       "      <td>166</td>\n",
       "      <td>4</td>\n",
       "      <td>0.0</td>\n",
       "      <td>17.0</td>\n",
       "      <td>2.0</td>\n",
       "    </tr>\n",
       "    <tr>\n",
       "      <th>2018-06-15 00:05:00</th>\n",
       "      <td>20.0</td>\n",
       "      <td>2.0</td>\n",
       "      <td>0</td>\n",
       "      <td>6</td>\n",
       "      <td>15</td>\n",
       "      <td>0</td>\n",
       "      <td>5</td>\n",
       "      <td>0</td>\n",
       "      <td>166</td>\n",
       "      <td>4</td>\n",
       "      <td>0.0</td>\n",
       "      <td>20.0</td>\n",
       "      <td>2.0</td>\n",
       "    </tr>\n",
       "    <tr>\n",
       "      <th>2018-06-15 00:10:00</th>\n",
       "      <td>21.0</td>\n",
       "      <td>2.0</td>\n",
       "      <td>0</td>\n",
       "      <td>6</td>\n",
       "      <td>15</td>\n",
       "      <td>0</td>\n",
       "      <td>10</td>\n",
       "      <td>0</td>\n",
       "      <td>166</td>\n",
       "      <td>4</td>\n",
       "      <td>0.0</td>\n",
       "      <td>21.0</td>\n",
       "      <td>2.0</td>\n",
       "    </tr>\n",
       "    <tr>\n",
       "      <th>2018-06-15 00:15:00</th>\n",
       "      <td>19.0</td>\n",
       "      <td>2.0</td>\n",
       "      <td>0</td>\n",
       "      <td>6</td>\n",
       "      <td>15</td>\n",
       "      <td>0</td>\n",
       "      <td>15</td>\n",
       "      <td>0</td>\n",
       "      <td>166</td>\n",
       "      <td>4</td>\n",
       "      <td>0.0</td>\n",
       "      <td>NaN</td>\n",
       "      <td>NaN</td>\n",
       "    </tr>\n",
       "    <tr>\n",
       "      <th>2018-06-15 00:20:00</th>\n",
       "      <td>45.0</td>\n",
       "      <td>2.0</td>\n",
       "      <td>0</td>\n",
       "      <td>6</td>\n",
       "      <td>15</td>\n",
       "      <td>0</td>\n",
       "      <td>20</td>\n",
       "      <td>0</td>\n",
       "      <td>166</td>\n",
       "      <td>4</td>\n",
       "      <td>0.0</td>\n",
       "      <td>45.0</td>\n",
       "      <td>2.0</td>\n",
       "    </tr>\n",
       "  </tbody>\n",
       "</table>\n",
       "</div>"
      ],
      "text/plain": [
       "                      CPU  Memory  status  month  day  hour  min  second  \\\n",
       "Time                                                                       \n",
       "2018-06-15 00:00:00  17.0     2.0       0      6   15     0    0       0   \n",
       "2018-06-15 00:05:00  20.0     2.0       0      6   15     0    5       0   \n",
       "2018-06-15 00:10:00  21.0     2.0       0      6   15     0   10       0   \n",
       "2018-06-15 00:15:00  19.0     2.0       0      6   15     0   15       0   \n",
       "2018-06-15 00:20:00  45.0     2.0       0      6   15     0   20       0   \n",
       "\n",
       "                     dayofyear  weekday  holiday  CPU_nan  Memory_nan  \n",
       "Time                                                                   \n",
       "2018-06-15 00:00:00        166        4      0.0     17.0         2.0  \n",
       "2018-06-15 00:05:00        166        4      0.0     20.0         2.0  \n",
       "2018-06-15 00:10:00        166        4      0.0     21.0         2.0  \n",
       "2018-06-15 00:15:00        166        4      0.0      NaN         NaN  \n",
       "2018-06-15 00:20:00        166        4      0.0     45.0         2.0  "
      ]
     },
     "execution_count": 12,
     "metadata": {},
     "output_type": "execute_result"
    }
   ],
   "source": [
    "eda.head()"
   ]
  },
  {
   "cell_type": "code",
   "execution_count": 13,
   "id": "55923623",
   "metadata": {},
   "outputs": [
    {
     "data": {
      "text/html": [
       "<div>\n",
       "<style scoped>\n",
       "    .dataframe tbody tr th:only-of-type {\n",
       "        vertical-align: middle;\n",
       "    }\n",
       "\n",
       "    .dataframe tbody tr th {\n",
       "        vertical-align: top;\n",
       "    }\n",
       "\n",
       "    .dataframe thead th {\n",
       "        text-align: right;\n",
       "    }\n",
       "</style>\n",
       "<table border=\"1\" class=\"dataframe\">\n",
       "  <thead>\n",
       "    <tr style=\"text-align: right;\">\n",
       "      <th></th>\n",
       "      <th>CPU</th>\n",
       "      <th>Memory</th>\n",
       "      <th>status</th>\n",
       "      <th>month</th>\n",
       "      <th>day</th>\n",
       "      <th>hour</th>\n",
       "      <th>min</th>\n",
       "      <th>second</th>\n",
       "      <th>dayofyear</th>\n",
       "      <th>weekday</th>\n",
       "      <th>holiday</th>\n",
       "      <th>CPU_nan</th>\n",
       "      <th>Memory_nan</th>\n",
       "    </tr>\n",
       "    <tr>\n",
       "      <th>Time</th>\n",
       "      <th></th>\n",
       "      <th></th>\n",
       "      <th></th>\n",
       "      <th></th>\n",
       "      <th></th>\n",
       "      <th></th>\n",
       "      <th></th>\n",
       "      <th></th>\n",
       "      <th></th>\n",
       "      <th></th>\n",
       "      <th></th>\n",
       "      <th></th>\n",
       "      <th></th>\n",
       "    </tr>\n",
       "  </thead>\n",
       "  <tbody>\n",
       "    <tr>\n",
       "      <th>2018-08-23 23:35:00</th>\n",
       "      <td>15.0</td>\n",
       "      <td>1.0</td>\n",
       "      <td>0</td>\n",
       "      <td>8</td>\n",
       "      <td>23</td>\n",
       "      <td>23</td>\n",
       "      <td>35</td>\n",
       "      <td>0</td>\n",
       "      <td>235</td>\n",
       "      <td>3</td>\n",
       "      <td>0.0</td>\n",
       "      <td>15.0</td>\n",
       "      <td>1.0</td>\n",
       "    </tr>\n",
       "    <tr>\n",
       "      <th>2018-08-23 23:40:00</th>\n",
       "      <td>7.0</td>\n",
       "      <td>1.0</td>\n",
       "      <td>0</td>\n",
       "      <td>8</td>\n",
       "      <td>23</td>\n",
       "      <td>23</td>\n",
       "      <td>40</td>\n",
       "      <td>0</td>\n",
       "      <td>235</td>\n",
       "      <td>3</td>\n",
       "      <td>0.0</td>\n",
       "      <td>7.0</td>\n",
       "      <td>1.0</td>\n",
       "    </tr>\n",
       "    <tr>\n",
       "      <th>2018-08-23 23:45:00</th>\n",
       "      <td>6.0</td>\n",
       "      <td>2.0</td>\n",
       "      <td>0</td>\n",
       "      <td>8</td>\n",
       "      <td>23</td>\n",
       "      <td>23</td>\n",
       "      <td>45</td>\n",
       "      <td>0</td>\n",
       "      <td>235</td>\n",
       "      <td>3</td>\n",
       "      <td>0.0</td>\n",
       "      <td>NaN</td>\n",
       "      <td>NaN</td>\n",
       "    </tr>\n",
       "    <tr>\n",
       "      <th>2018-08-23 23:50:00</th>\n",
       "      <td>5.0</td>\n",
       "      <td>1.0</td>\n",
       "      <td>0</td>\n",
       "      <td>8</td>\n",
       "      <td>23</td>\n",
       "      <td>23</td>\n",
       "      <td>50</td>\n",
       "      <td>0</td>\n",
       "      <td>235</td>\n",
       "      <td>3</td>\n",
       "      <td>0.0</td>\n",
       "      <td>5.0</td>\n",
       "      <td>1.0</td>\n",
       "    </tr>\n",
       "    <tr>\n",
       "      <th>2018-08-23 23:55:00</th>\n",
       "      <td>5.0</td>\n",
       "      <td>1.0</td>\n",
       "      <td>0</td>\n",
       "      <td>8</td>\n",
       "      <td>23</td>\n",
       "      <td>23</td>\n",
       "      <td>55</td>\n",
       "      <td>0</td>\n",
       "      <td>235</td>\n",
       "      <td>3</td>\n",
       "      <td>0.0</td>\n",
       "      <td>5.0</td>\n",
       "      <td>1.0</td>\n",
       "    </tr>\n",
       "  </tbody>\n",
       "</table>\n",
       "</div>"
      ],
      "text/plain": [
       "                      CPU  Memory  status  month  day  hour  min  second  \\\n",
       "Time                                                                       \n",
       "2018-08-23 23:35:00  15.0     1.0       0      8   23    23   35       0   \n",
       "2018-08-23 23:40:00   7.0     1.0       0      8   23    23   40       0   \n",
       "2018-08-23 23:45:00   6.0     2.0       0      8   23    23   45       0   \n",
       "2018-08-23 23:50:00   5.0     1.0       0      8   23    23   50       0   \n",
       "2018-08-23 23:55:00   5.0     1.0       0      8   23    23   55       0   \n",
       "\n",
       "                     dayofyear  weekday  holiday  CPU_nan  Memory_nan  \n",
       "Time                                                                   \n",
       "2018-08-23 23:35:00        235        3      0.0     15.0         1.0  \n",
       "2018-08-23 23:40:00        235        3      0.0      7.0         1.0  \n",
       "2018-08-23 23:45:00        235        3      0.0      NaN         NaN  \n",
       "2018-08-23 23:50:00        235        3      0.0      5.0         1.0  \n",
       "2018-08-23 23:55:00        235        3      0.0      5.0         1.0  "
      ]
     },
     "execution_count": 13,
     "metadata": {},
     "output_type": "execute_result"
    }
   ],
   "source": [
    "eda.tail()"
   ]
  },
  {
   "cell_type": "code",
   "execution_count": 14,
   "id": "8733175d",
   "metadata": {},
   "outputs": [
    {
     "name": "stdout",
     "output_type": "stream",
     "text": [
      "CPU_nan       6718\n",
      "Memory_nan    6718\n",
      "dtype: int64\n"
     ]
    }
   ],
   "source": [
    "print(eda.iloc[:,-2:].isnull().sum())"
   ]
  },
  {
   "cell_type": "code",
   "execution_count": 15,
   "id": "974675bd",
   "metadata": {},
   "outputs": [],
   "source": [
    "eda = eda.astype(dtype='float64')"
   ]
  },
  {
   "cell_type": "code",
   "execution_count": 16,
   "id": "52d02335",
   "metadata": {},
   "outputs": [
    {
     "data": {
      "text/html": [
       "<div>\n",
       "<style scoped>\n",
       "    .dataframe tbody tr th:only-of-type {\n",
       "        vertical-align: middle;\n",
       "    }\n",
       "\n",
       "    .dataframe tbody tr th {\n",
       "        vertical-align: top;\n",
       "    }\n",
       "\n",
       "    .dataframe thead th {\n",
       "        text-align: right;\n",
       "    }\n",
       "</style>\n",
       "<table border=\"1\" class=\"dataframe\">\n",
       "  <thead>\n",
       "    <tr style=\"text-align: right;\">\n",
       "      <th></th>\n",
       "      <th>CPU</th>\n",
       "      <th>Memory</th>\n",
       "      <th>status</th>\n",
       "      <th>month</th>\n",
       "      <th>day</th>\n",
       "      <th>hour</th>\n",
       "      <th>min</th>\n",
       "      <th>second</th>\n",
       "      <th>dayofyear</th>\n",
       "      <th>weekday</th>\n",
       "      <th>holiday</th>\n",
       "      <th>CPU_nan</th>\n",
       "      <th>Memory_nan</th>\n",
       "    </tr>\n",
       "    <tr>\n",
       "      <th>Time</th>\n",
       "      <th></th>\n",
       "      <th></th>\n",
       "      <th></th>\n",
       "      <th></th>\n",
       "      <th></th>\n",
       "      <th></th>\n",
       "      <th></th>\n",
       "      <th></th>\n",
       "      <th></th>\n",
       "      <th></th>\n",
       "      <th></th>\n",
       "      <th></th>\n",
       "      <th></th>\n",
       "    </tr>\n",
       "  </thead>\n",
       "  <tbody>\n",
       "    <tr>\n",
       "      <th>2018-06-15 00:00:00</th>\n",
       "      <td>17.0</td>\n",
       "      <td>2.0</td>\n",
       "      <td>0.0</td>\n",
       "      <td>6.0</td>\n",
       "      <td>15.0</td>\n",
       "      <td>0.0</td>\n",
       "      <td>0.0</td>\n",
       "      <td>0.0</td>\n",
       "      <td>166.0</td>\n",
       "      <td>4.0</td>\n",
       "      <td>0.0</td>\n",
       "      <td>17.0</td>\n",
       "      <td>2.0</td>\n",
       "    </tr>\n",
       "    <tr>\n",
       "      <th>2018-06-15 00:05:00</th>\n",
       "      <td>20.0</td>\n",
       "      <td>2.0</td>\n",
       "      <td>0.0</td>\n",
       "      <td>6.0</td>\n",
       "      <td>15.0</td>\n",
       "      <td>0.0</td>\n",
       "      <td>5.0</td>\n",
       "      <td>0.0</td>\n",
       "      <td>166.0</td>\n",
       "      <td>4.0</td>\n",
       "      <td>0.0</td>\n",
       "      <td>20.0</td>\n",
       "      <td>2.0</td>\n",
       "    </tr>\n",
       "    <tr>\n",
       "      <th>2018-06-15 00:10:00</th>\n",
       "      <td>21.0</td>\n",
       "      <td>2.0</td>\n",
       "      <td>0.0</td>\n",
       "      <td>6.0</td>\n",
       "      <td>15.0</td>\n",
       "      <td>0.0</td>\n",
       "      <td>10.0</td>\n",
       "      <td>0.0</td>\n",
       "      <td>166.0</td>\n",
       "      <td>4.0</td>\n",
       "      <td>0.0</td>\n",
       "      <td>21.0</td>\n",
       "      <td>2.0</td>\n",
       "    </tr>\n",
       "    <tr>\n",
       "      <th>2018-06-15 00:15:00</th>\n",
       "      <td>19.0</td>\n",
       "      <td>2.0</td>\n",
       "      <td>0.0</td>\n",
       "      <td>6.0</td>\n",
       "      <td>15.0</td>\n",
       "      <td>0.0</td>\n",
       "      <td>15.0</td>\n",
       "      <td>0.0</td>\n",
       "      <td>166.0</td>\n",
       "      <td>4.0</td>\n",
       "      <td>0.0</td>\n",
       "      <td>NaN</td>\n",
       "      <td>NaN</td>\n",
       "    </tr>\n",
       "    <tr>\n",
       "      <th>2018-06-15 00:20:00</th>\n",
       "      <td>45.0</td>\n",
       "      <td>2.0</td>\n",
       "      <td>0.0</td>\n",
       "      <td>6.0</td>\n",
       "      <td>15.0</td>\n",
       "      <td>0.0</td>\n",
       "      <td>20.0</td>\n",
       "      <td>0.0</td>\n",
       "      <td>166.0</td>\n",
       "      <td>4.0</td>\n",
       "      <td>0.0</td>\n",
       "      <td>45.0</td>\n",
       "      <td>2.0</td>\n",
       "    </tr>\n",
       "    <tr>\n",
       "      <th>...</th>\n",
       "      <td>...</td>\n",
       "      <td>...</td>\n",
       "      <td>...</td>\n",
       "      <td>...</td>\n",
       "      <td>...</td>\n",
       "      <td>...</td>\n",
       "      <td>...</td>\n",
       "      <td>...</td>\n",
       "      <td>...</td>\n",
       "      <td>...</td>\n",
       "      <td>...</td>\n",
       "      <td>...</td>\n",
       "      <td>...</td>\n",
       "    </tr>\n",
       "    <tr>\n",
       "      <th>2018-08-23 23:35:00</th>\n",
       "      <td>15.0</td>\n",
       "      <td>1.0</td>\n",
       "      <td>0.0</td>\n",
       "      <td>8.0</td>\n",
       "      <td>23.0</td>\n",
       "      <td>23.0</td>\n",
       "      <td>35.0</td>\n",
       "      <td>0.0</td>\n",
       "      <td>235.0</td>\n",
       "      <td>3.0</td>\n",
       "      <td>0.0</td>\n",
       "      <td>15.0</td>\n",
       "      <td>1.0</td>\n",
       "    </tr>\n",
       "    <tr>\n",
       "      <th>2018-08-23 23:40:00</th>\n",
       "      <td>7.0</td>\n",
       "      <td>1.0</td>\n",
       "      <td>0.0</td>\n",
       "      <td>8.0</td>\n",
       "      <td>23.0</td>\n",
       "      <td>23.0</td>\n",
       "      <td>40.0</td>\n",
       "      <td>0.0</td>\n",
       "      <td>235.0</td>\n",
       "      <td>3.0</td>\n",
       "      <td>0.0</td>\n",
       "      <td>7.0</td>\n",
       "      <td>1.0</td>\n",
       "    </tr>\n",
       "    <tr>\n",
       "      <th>2018-08-23 23:45:00</th>\n",
       "      <td>6.0</td>\n",
       "      <td>2.0</td>\n",
       "      <td>0.0</td>\n",
       "      <td>8.0</td>\n",
       "      <td>23.0</td>\n",
       "      <td>23.0</td>\n",
       "      <td>45.0</td>\n",
       "      <td>0.0</td>\n",
       "      <td>235.0</td>\n",
       "      <td>3.0</td>\n",
       "      <td>0.0</td>\n",
       "      <td>NaN</td>\n",
       "      <td>NaN</td>\n",
       "    </tr>\n",
       "    <tr>\n",
       "      <th>2018-08-23 23:50:00</th>\n",
       "      <td>5.0</td>\n",
       "      <td>1.0</td>\n",
       "      <td>0.0</td>\n",
       "      <td>8.0</td>\n",
       "      <td>23.0</td>\n",
       "      <td>23.0</td>\n",
       "      <td>50.0</td>\n",
       "      <td>0.0</td>\n",
       "      <td>235.0</td>\n",
       "      <td>3.0</td>\n",
       "      <td>0.0</td>\n",
       "      <td>5.0</td>\n",
       "      <td>1.0</td>\n",
       "    </tr>\n",
       "    <tr>\n",
       "      <th>2018-08-23 23:55:00</th>\n",
       "      <td>5.0</td>\n",
       "      <td>1.0</td>\n",
       "      <td>0.0</td>\n",
       "      <td>8.0</td>\n",
       "      <td>23.0</td>\n",
       "      <td>23.0</td>\n",
       "      <td>55.0</td>\n",
       "      <td>0.0</td>\n",
       "      <td>235.0</td>\n",
       "      <td>3.0</td>\n",
       "      <td>0.0</td>\n",
       "      <td>5.0</td>\n",
       "      <td>1.0</td>\n",
       "    </tr>\n",
       "  </tbody>\n",
       "</table>\n",
       "<p>20157 rows × 13 columns</p>\n",
       "</div>"
      ],
      "text/plain": [
       "                      CPU  Memory  status  month   day  hour   min  second  \\\n",
       "Time                                                                         \n",
       "2018-06-15 00:00:00  17.0     2.0     0.0    6.0  15.0   0.0   0.0     0.0   \n",
       "2018-06-15 00:05:00  20.0     2.0     0.0    6.0  15.0   0.0   5.0     0.0   \n",
       "2018-06-15 00:10:00  21.0     2.0     0.0    6.0  15.0   0.0  10.0     0.0   \n",
       "2018-06-15 00:15:00  19.0     2.0     0.0    6.0  15.0   0.0  15.0     0.0   \n",
       "2018-06-15 00:20:00  45.0     2.0     0.0    6.0  15.0   0.0  20.0     0.0   \n",
       "...                   ...     ...     ...    ...   ...   ...   ...     ...   \n",
       "2018-08-23 23:35:00  15.0     1.0     0.0    8.0  23.0  23.0  35.0     0.0   \n",
       "2018-08-23 23:40:00   7.0     1.0     0.0    8.0  23.0  23.0  40.0     0.0   \n",
       "2018-08-23 23:45:00   6.0     2.0     0.0    8.0  23.0  23.0  45.0     0.0   \n",
       "2018-08-23 23:50:00   5.0     1.0     0.0    8.0  23.0  23.0  50.0     0.0   \n",
       "2018-08-23 23:55:00   5.0     1.0     0.0    8.0  23.0  23.0  55.0     0.0   \n",
       "\n",
       "                     dayofyear  weekday  holiday  CPU_nan  Memory_nan  \n",
       "Time                                                                   \n",
       "2018-06-15 00:00:00      166.0      4.0      0.0     17.0         2.0  \n",
       "2018-06-15 00:05:00      166.0      4.0      0.0     20.0         2.0  \n",
       "2018-06-15 00:10:00      166.0      4.0      0.0     21.0         2.0  \n",
       "2018-06-15 00:15:00      166.0      4.0      0.0      NaN         NaN  \n",
       "2018-06-15 00:20:00      166.0      4.0      0.0     45.0         2.0  \n",
       "...                        ...      ...      ...      ...         ...  \n",
       "2018-08-23 23:35:00      235.0      3.0      0.0     15.0         1.0  \n",
       "2018-08-23 23:40:00      235.0      3.0      0.0      7.0         1.0  \n",
       "2018-08-23 23:45:00      235.0      3.0      0.0      NaN         NaN  \n",
       "2018-08-23 23:50:00      235.0      3.0      0.0      5.0         1.0  \n",
       "2018-08-23 23:55:00      235.0      3.0      0.0      5.0         1.0  \n",
       "\n",
       "[20157 rows x 13 columns]"
      ]
     },
     "execution_count": 16,
     "metadata": {},
     "output_type": "execute_result"
    }
   ],
   "source": [
    "eda"
   ]
  },
  {
   "cell_type": "markdown",
   "id": "a786fc1c",
   "metadata": {},
   "source": [
    "결측치가 잘 생성됨을 확인할 수 있습니다.\n",
    "각 변수에 대해 8가지의 보간법을 시행한 후 가장 오차가 적은 보간법으로 결측치를 채워주겠습니다.\n",
    "https://techblog-history-younghunjo1.tistory.com/85\n",
    "https://rfriend.tistory.com/682\n",
    "- pad, linear,'quadratic','cubic', XGboost, LightGBM, MICE, K-NN, multiquadratic"
   ]
  },
  {
   "cell_type": "code",
   "execution_count": 17,
   "id": "7c1dd88a",
   "metadata": {},
   "outputs": [],
   "source": [
    "def compare_interpolate_methods(col, methods, metric):\n",
    "    error_dict = dict()\n",
    "    for method in methods:\n",
    "        fillna = eda['{}'.format(col+'_nan')].interpolate(method=method)\n",
    "        if fillna.isna().sum() != 0:\n",
    "            fillna = fillna.interpolate(method='quadratic')\n",
    "        error = metric(eda['{}'.format(col)], fillna)\n",
    "        error_dict['{}'.format(method)] = error\n",
    "    return error_dict    "
   ]
  },
  {
   "cell_type": "code",
   "execution_count": 18,
   "id": "cf60e4b6",
   "metadata": {},
   "outputs": [],
   "source": [
    "def compare_interpolate_methods_(col, methods, metric, n):\n",
    "    error_dict = dict()\n",
    "    for method in methods:\n",
    "        fillna = eda['{}'.format(col+'_nan')].interpolate(method=method, order=n)\n",
    "        if fillna.isna().sum() != 0:\n",
    "            fillna = fillna.interpolate(method='quadratic')\n",
    "        error = metric(eda['{}'.format(col)], fillna)\n",
    "        error_dict['{}'.format(method)] = error\n",
    "        all_cols_error_dict['{}'.format(col)][method] = error_dict[method]"
   ]
  },
  {
   "cell_type": "code",
   "execution_count": 19,
   "id": "e1c42f1e",
   "metadata": {},
   "outputs": [],
   "source": [
    "all_cols_error_dict = dict()\n",
    "for col in ['CPU', 'Memory']:\n",
    "    methods = ['pad','linear','quadratic','cubic', 'time', 'nearest', 'zero', 'slinear', 'pchip', 'akima', 'cubicspline']\n",
    "    error_dict = compare_interpolate_methods(col, methods, mean_squared_error)\n",
    "    all_cols_error_dict['{}'.format(col)] = error_dict\n",
    "for col in ['CPU', 'Memory']:\n",
    "    methods = ['spline', 'polynomial']\n",
    "    error_dict = compare_interpolate_methods_(col, methods, mean_squared_error, 5)\n",
    "    "
   ]
  },
  {
   "cell_type": "code",
   "execution_count": 20,
   "id": "cd60b40e",
   "metadata": {},
   "outputs": [
    {
     "data": {
      "text/plain": [
       "{'CPU': {'pad': 4.152105968150022,\n",
       "  'linear': 1.7042094557721883,\n",
       "  'quadratic': 1.642347885017022,\n",
       "  'cubic': 1.6757860562587685,\n",
       "  'time': 1.704132283794436,\n",
       "  'nearest': 4.149724661407948,\n",
       "  'zero': 4.152105968150022,\n",
       "  'slinear': 1.704132283794436,\n",
       "  'pchip': 1.5769181893605495,\n",
       "  'akima': 1.6152179779799452,\n",
       "  'cubicspline': 1.6757860562587685,\n",
       "  'spline': 1.9409242408690668,\n",
       "  'polynomial': 1.8222511281588971},\n",
       " 'Memory': {'pad': 1.1887681698665475,\n",
       "  'linear': 0.44749962792082154,\n",
       "  'quadratic': 0.3985791223402077,\n",
       "  'cubic': 0.40704523046290036,\n",
       "  'time': 0.4110551614272406,\n",
       "  'nearest': 0.9082204693158704,\n",
       "  'zero': 1.1887681698665475,\n",
       "  'slinear': 0.4110551614272406,\n",
       "  'pchip': 0.386153596122123,\n",
       "  'akima': 0.3674451861595375,\n",
       "  'cubicspline': 0.40704523046290025,\n",
       "  'spline': 0.6028840669983554,\n",
       "  'polynomial': 0.44205307705925356}}"
      ]
     },
     "execution_count": 20,
     "metadata": {},
     "output_type": "execute_result"
    }
   ],
   "source": [
    "all_cols_error_dict"
   ]
  },
  {
   "cell_type": "markdown",
   "id": "9014060d",
   "metadata": {},
   "source": [
    "def compare_interpolate_methods_(col, metric):\n",
    "    error_dict = dict()\n",
    "    for method in methods:\n",
    "        for i in range(3,6):\n",
    "            fillna = eda['{}'.format(col+'_nan')].interpolate(method=method, order = i)\n",
    "            if fillna.isna().sum() != 0:\n",
    "                fillna = fillna.interpolate(method='quadratic')\n",
    "            error = metric(eda['{}'.format(col)], fillna)\n",
    "            error_dict['%s - %d' %(method, i)] = error\n",
    "            all_cols_error_dict['{}'.format(col)] = error_dict  "
   ]
  },
  {
   "cell_type": "markdown",
   "id": "634a91c0",
   "metadata": {},
   "source": [
    "imit_direction='backward' 로 설정해주면 보간해주는 방향이 밑에서 위로 올라가면서 해주게 됩니다.\n",
    "(아무런 설정을 안해주면 default 로 limit_direction='forward' 설정됨.  limit_direction='both' 도 있음)\n",
    "df.interpolate(method='values', limit=1, limit_direction='backward')\n",
    "https://rfriend.tistory.com/264\n",
    "https://bskyvision.com/entry/model%EC%9D%84-%EC%BB%B4%ED%8C%8C%EC%9D%BC%ED%95%A0-%EB%95%8C-%EC%82%AC%EC%9A%A9%EB%90%98%EB%8A%94-loss%EC%99%80-metrics%EC%9D%B4%EB%9E%80-%EA%B7%B8-%EC%B0%A8%EC%9D%B4%EB%8A%94\n",
    "https://bskyvision.com/822"
   ]
  },
  {
   "cell_type": "markdown",
   "id": "b73181c6",
   "metadata": {},
   "source": [
    "mean_squared_error:https://growingsaja.tistory.com/233\n",
    "https://mizykk.tistory.com/102\n",
    "여기서는 mse만 썼는데 mae도 같이 써주는 게 좋을 듯"
   ]
  },
  {
   "cell_type": "markdown",
   "id": "464af09b",
   "metadata": {},
   "source": [
    "AutoTS 좋은점 \n",
    "\n",
    "• 사용 중인 데이터 유형에 따라 달라지는 최적의 시계열 예측모형을 찾는 데 사용할 수 있음\n",
    "• 일변량 시계열과 다변량 시계열을 모두 처리할 수 있음\n",
    "• 또한 NaN값을 제거하고 채워 지저분한 데이터를 처리할 수 있으며 특이치도 처리할 수 있음 \n",
    "• 이 파이썬 라이브러리에서 제공하는 모델을 배포에 사용할 수 있음"
   ]
  },
  {
   "cell_type": "code",
   "execution_count": 21,
   "id": "56dc4f7c",
   "metadata": {},
   "outputs": [
    {
     "data": {
      "text/plain": [
       "['linear',\n",
       " 'time',\n",
       " 'index',\n",
       " 'values',\n",
       " 'nearest',\n",
       " 'zero',\n",
       " 'slinear',\n",
       " 'quadratic',\n",
       " 'cubic',\n",
       " 'barycentric',\n",
       " 'krogh',\n",
       " 'from_derivatives',\n",
       " 'pchip',\n",
       " 'akima',\n",
       " 'cubicspline']"
      ]
     },
     "execution_count": 21,
     "metadata": {},
     "output_type": "execute_result"
    }
   ],
   "source": [
    "['linear', 'time', 'index', 'values', 'nearest', 'zero', 'slinear', 'quadratic', 'cubic', 'barycentric', 'krogh', 'from_derivatives', 'pchip', 'akima', 'cubicspline']\n"
   ]
  },
  {
   "cell_type": "code",
   "execution_count": 22,
   "id": "4af5e375",
   "metadata": {},
   "outputs": [
    {
     "data": {
      "text/html": [
       "<div>\n",
       "<style scoped>\n",
       "    .dataframe tbody tr th:only-of-type {\n",
       "        vertical-align: middle;\n",
       "    }\n",
       "\n",
       "    .dataframe tbody tr th {\n",
       "        vertical-align: top;\n",
       "    }\n",
       "\n",
       "    .dataframe thead th {\n",
       "        text-align: right;\n",
       "    }\n",
       "</style>\n",
       "<table border=\"1\" class=\"dataframe\">\n",
       "  <thead>\n",
       "    <tr style=\"text-align: right;\">\n",
       "      <th></th>\n",
       "      <th>CPU</th>\n",
       "      <th>Memory</th>\n",
       "    </tr>\n",
       "  </thead>\n",
       "  <tbody>\n",
       "    <tr>\n",
       "      <th>pad</th>\n",
       "      <td>4.152106</td>\n",
       "      <td>1.188768</td>\n",
       "    </tr>\n",
       "    <tr>\n",
       "      <th>linear</th>\n",
       "      <td>1.704209</td>\n",
       "      <td>0.447500</td>\n",
       "    </tr>\n",
       "    <tr>\n",
       "      <th>quadratic</th>\n",
       "      <td>1.642348</td>\n",
       "      <td>0.398579</td>\n",
       "    </tr>\n",
       "    <tr>\n",
       "      <th>cubic</th>\n",
       "      <td>1.675786</td>\n",
       "      <td>0.407045</td>\n",
       "    </tr>\n",
       "    <tr>\n",
       "      <th>time</th>\n",
       "      <td>1.704132</td>\n",
       "      <td>0.411055</td>\n",
       "    </tr>\n",
       "    <tr>\n",
       "      <th>nearest</th>\n",
       "      <td>4.149725</td>\n",
       "      <td>0.908220</td>\n",
       "    </tr>\n",
       "    <tr>\n",
       "      <th>zero</th>\n",
       "      <td>4.152106</td>\n",
       "      <td>1.188768</td>\n",
       "    </tr>\n",
       "    <tr>\n",
       "      <th>slinear</th>\n",
       "      <td>1.704132</td>\n",
       "      <td>0.411055</td>\n",
       "    </tr>\n",
       "    <tr>\n",
       "      <th>pchip</th>\n",
       "      <td>1.576918</td>\n",
       "      <td>0.386154</td>\n",
       "    </tr>\n",
       "    <tr>\n",
       "      <th>akima</th>\n",
       "      <td>1.615218</td>\n",
       "      <td>0.367445</td>\n",
       "    </tr>\n",
       "    <tr>\n",
       "      <th>cubicspline</th>\n",
       "      <td>1.675786</td>\n",
       "      <td>0.407045</td>\n",
       "    </tr>\n",
       "    <tr>\n",
       "      <th>spline</th>\n",
       "      <td>1.940924</td>\n",
       "      <td>0.602884</td>\n",
       "    </tr>\n",
       "    <tr>\n",
       "      <th>polynomial</th>\n",
       "      <td>1.822251</td>\n",
       "      <td>0.442053</td>\n",
       "    </tr>\n",
       "  </tbody>\n",
       "</table>\n",
       "</div>"
      ],
      "text/plain": [
       "                  CPU    Memory\n",
       "pad          4.152106  1.188768\n",
       "linear       1.704209  0.447500\n",
       "quadratic    1.642348  0.398579\n",
       "cubic        1.675786  0.407045\n",
       "time         1.704132  0.411055\n",
       "nearest      4.149725  0.908220\n",
       "zero         4.152106  1.188768\n",
       "slinear      1.704132  0.411055\n",
       "pchip        1.576918  0.386154\n",
       "akima        1.615218  0.367445\n",
       "cubicspline  1.675786  0.407045\n",
       "spline       1.940924  0.602884\n",
       "polynomial   1.822251  0.442053"
      ]
     },
     "execution_count": 22,
     "metadata": {},
     "output_type": "execute_result"
    }
   ],
   "source": [
    "all_cols_error_df = pd.DataFrame(all_cols_error_dict)\n",
    "all_cols_error_df"
   ]
  },
  {
   "cell_type": "code",
   "execution_count": 23,
   "id": "48bd0537",
   "metadata": {},
   "outputs": [
    {
     "data": {
      "image/png": "[encoded data removed]",
      "text/plain": [
       "<Figure size 1296x360 with 2 Axes>"
      ]
     },
     "metadata": {
      "needs_background": "light"
     },
     "output_type": "display_data"
    }
   ],
   "source": [
    "fig, axes = plt.subplots(2, 1, figsize = (18,5), sharey=False)\n",
    "for i in range(len(all_cols_error_df.columns)):\n",
    "    sns.lineplot(ax=axes[i], data=all_cols_error_df.iloc[:,i].transpose(), lw = 5)\n",
    "    "
   ]
  },
  {
   "cell_type": "code",
   "execution_count": 24,
   "id": "49f4de3e",
   "metadata": {},
   "outputs": [],
   "source": [
    "train_q['CPU'] = train_q['CPU'].interpolate(method='pchip')\n",
    "train_q['Memory'] = train_q['Memory'].interpolate(method='akima')"
   ]
  },
  {
   "cell_type": "code",
   "execution_count": 25,
   "id": "de9d06ed",
   "metadata": {},
   "outputs": [
    {
     "data": {
      "text/html": [
       "<div>\n",
       "<style scoped>\n",
       "    .dataframe tbody tr th:only-of-type {\n",
       "        vertical-align: middle;\n",
       "    }\n",
       "\n",
       "    .dataframe tbody tr th {\n",
       "        vertical-align: top;\n",
       "    }\n",
       "\n",
       "    .dataframe thead th {\n",
       "        text-align: right;\n",
       "    }\n",
       "</style>\n",
       "<table border=\"1\" class=\"dataframe\">\n",
       "  <thead>\n",
       "    <tr style=\"text-align: right;\">\n",
       "      <th></th>\n",
       "      <th>CPU</th>\n",
       "      <th>Memory</th>\n",
       "      <th>status</th>\n",
       "      <th>month</th>\n",
       "      <th>day</th>\n",
       "      <th>hour</th>\n",
       "      <th>min</th>\n",
       "      <th>second</th>\n",
       "      <th>dayofyear</th>\n",
       "      <th>weekday</th>\n",
       "      <th>holiday</th>\n",
       "    </tr>\n",
       "    <tr>\n",
       "      <th>Time</th>\n",
       "      <th></th>\n",
       "      <th></th>\n",
       "      <th></th>\n",
       "      <th></th>\n",
       "      <th></th>\n",
       "      <th></th>\n",
       "      <th></th>\n",
       "      <th></th>\n",
       "      <th></th>\n",
       "      <th></th>\n",
       "      <th></th>\n",
       "    </tr>\n",
       "  </thead>\n",
       "  <tbody>\n",
       "    <tr>\n",
       "      <th>2018-06-15 00:00:00</th>\n",
       "      <td>17.0</td>\n",
       "      <td>2.0</td>\n",
       "      <td>0</td>\n",
       "      <td>6</td>\n",
       "      <td>15</td>\n",
       "      <td>0</td>\n",
       "      <td>0</td>\n",
       "      <td>0</td>\n",
       "      <td>166</td>\n",
       "      <td>4</td>\n",
       "      <td>0.0</td>\n",
       "    </tr>\n",
       "    <tr>\n",
       "      <th>2018-06-15 00:05:00</th>\n",
       "      <td>20.0</td>\n",
       "      <td>2.0</td>\n",
       "      <td>0</td>\n",
       "      <td>6</td>\n",
       "      <td>15</td>\n",
       "      <td>0</td>\n",
       "      <td>5</td>\n",
       "      <td>0</td>\n",
       "      <td>166</td>\n",
       "      <td>4</td>\n",
       "      <td>0.0</td>\n",
       "    </tr>\n",
       "    <tr>\n",
       "      <th>2018-06-15 00:10:00</th>\n",
       "      <td>21.0</td>\n",
       "      <td>2.0</td>\n",
       "      <td>0</td>\n",
       "      <td>6</td>\n",
       "      <td>15</td>\n",
       "      <td>0</td>\n",
       "      <td>10</td>\n",
       "      <td>0</td>\n",
       "      <td>166</td>\n",
       "      <td>4</td>\n",
       "      <td>0.0</td>\n",
       "    </tr>\n",
       "    <tr>\n",
       "      <th>2018-06-15 00:15:00</th>\n",
       "      <td>19.0</td>\n",
       "      <td>2.0</td>\n",
       "      <td>0</td>\n",
       "      <td>6</td>\n",
       "      <td>15</td>\n",
       "      <td>0</td>\n",
       "      <td>15</td>\n",
       "      <td>0</td>\n",
       "      <td>166</td>\n",
       "      <td>4</td>\n",
       "      <td>0.0</td>\n",
       "    </tr>\n",
       "    <tr>\n",
       "      <th>2018-06-15 00:20:00</th>\n",
       "      <td>45.0</td>\n",
       "      <td>2.0</td>\n",
       "      <td>0</td>\n",
       "      <td>6</td>\n",
       "      <td>15</td>\n",
       "      <td>0</td>\n",
       "      <td>20</td>\n",
       "      <td>0</td>\n",
       "      <td>166</td>\n",
       "      <td>4</td>\n",
       "      <td>0.0</td>\n",
       "    </tr>\n",
       "    <tr>\n",
       "      <th>...</th>\n",
       "      <td>...</td>\n",
       "      <td>...</td>\n",
       "      <td>...</td>\n",
       "      <td>...</td>\n",
       "      <td>...</td>\n",
       "      <td>...</td>\n",
       "      <td>...</td>\n",
       "      <td>...</td>\n",
       "      <td>...</td>\n",
       "      <td>...</td>\n",
       "      <td>...</td>\n",
       "    </tr>\n",
       "    <tr>\n",
       "      <th>2018-08-23 23:35:00</th>\n",
       "      <td>15.0</td>\n",
       "      <td>1.0</td>\n",
       "      <td>0</td>\n",
       "      <td>8</td>\n",
       "      <td>23</td>\n",
       "      <td>23</td>\n",
       "      <td>35</td>\n",
       "      <td>0</td>\n",
       "      <td>235</td>\n",
       "      <td>3</td>\n",
       "      <td>0.0</td>\n",
       "    </tr>\n",
       "    <tr>\n",
       "      <th>2018-08-23 23:40:00</th>\n",
       "      <td>7.0</td>\n",
       "      <td>1.0</td>\n",
       "      <td>0</td>\n",
       "      <td>8</td>\n",
       "      <td>23</td>\n",
       "      <td>23</td>\n",
       "      <td>40</td>\n",
       "      <td>0</td>\n",
       "      <td>235</td>\n",
       "      <td>3</td>\n",
       "      <td>0.0</td>\n",
       "    </tr>\n",
       "    <tr>\n",
       "      <th>2018-08-23 23:45:00</th>\n",
       "      <td>6.0</td>\n",
       "      <td>2.0</td>\n",
       "      <td>0</td>\n",
       "      <td>8</td>\n",
       "      <td>23</td>\n",
       "      <td>23</td>\n",
       "      <td>45</td>\n",
       "      <td>0</td>\n",
       "      <td>235</td>\n",
       "      <td>3</td>\n",
       "      <td>0.0</td>\n",
       "    </tr>\n",
       "    <tr>\n",
       "      <th>2018-08-23 23:50:00</th>\n",
       "      <td>5.0</td>\n",
       "      <td>1.0</td>\n",
       "      <td>0</td>\n",
       "      <td>8</td>\n",
       "      <td>23</td>\n",
       "      <td>23</td>\n",
       "      <td>50</td>\n",
       "      <td>0</td>\n",
       "      <td>235</td>\n",
       "      <td>3</td>\n",
       "      <td>0.0</td>\n",
       "    </tr>\n",
       "    <tr>\n",
       "      <th>2018-08-23 23:55:00</th>\n",
       "      <td>5.0</td>\n",
       "      <td>1.0</td>\n",
       "      <td>0</td>\n",
       "      <td>8</td>\n",
       "      <td>23</td>\n",
       "      <td>23</td>\n",
       "      <td>55</td>\n",
       "      <td>0</td>\n",
       "      <td>235</td>\n",
       "      <td>3</td>\n",
       "      <td>0.0</td>\n",
       "    </tr>\n",
       "  </tbody>\n",
       "</table>\n",
       "<p>20157 rows × 11 columns</p>\n",
       "</div>"
      ],
      "text/plain": [
       "                      CPU  Memory  status  month  day  hour  min  second  \\\n",
       "Time                                                                       \n",
       "2018-06-15 00:00:00  17.0     2.0       0      6   15     0    0       0   \n",
       "2018-06-15 00:05:00  20.0     2.0       0      6   15     0    5       0   \n",
       "2018-06-15 00:10:00  21.0     2.0       0      6   15     0   10       0   \n",
       "2018-06-15 00:15:00  19.0     2.0       0      6   15     0   15       0   \n",
       "2018-06-15 00:20:00  45.0     2.0       0      6   15     0   20       0   \n",
       "...                   ...     ...     ...    ...  ...   ...  ...     ...   \n",
       "2018-08-23 23:35:00  15.0     1.0       0      8   23    23   35       0   \n",
       "2018-08-23 23:40:00   7.0     1.0       0      8   23    23   40       0   \n",
       "2018-08-23 23:45:00   6.0     2.0       0      8   23    23   45       0   \n",
       "2018-08-23 23:50:00   5.0     1.0       0      8   23    23   50       0   \n",
       "2018-08-23 23:55:00   5.0     1.0       0      8   23    23   55       0   \n",
       "\n",
       "                     dayofyear  weekday  holiday  \n",
       "Time                                              \n",
       "2018-06-15 00:00:00        166        4      0.0  \n",
       "2018-06-15 00:05:00        166        4      0.0  \n",
       "2018-06-15 00:10:00        166        4      0.0  \n",
       "2018-06-15 00:15:00        166        4      0.0  \n",
       "2018-06-15 00:20:00        166        4      0.0  \n",
       "...                        ...      ...      ...  \n",
       "2018-08-23 23:35:00        235        3      0.0  \n",
       "2018-08-23 23:40:00        235        3      0.0  \n",
       "2018-08-23 23:45:00        235        3      0.0  \n",
       "2018-08-23 23:50:00        235        3      0.0  \n",
       "2018-08-23 23:55:00        235        3      0.0  \n",
       "\n",
       "[20157 rows x 11 columns]"
      ]
     },
     "execution_count": 25,
     "metadata": {},
     "output_type": "execute_result"
    }
   ],
   "source": [
    "train_q"
   ]
  },
  {
   "cell_type": "code",
   "execution_count": 26,
   "id": "d474f894",
   "metadata": {},
   "outputs": [
    {
     "data": {
      "text/plain": [
       "CPU          0\n",
       "Memory       0\n",
       "status       0\n",
       "month        0\n",
       "day          0\n",
       "hour         0\n",
       "min          0\n",
       "second       0\n",
       "dayofyear    0\n",
       "weekday      0\n",
       "holiday      0\n",
       "dtype: int64"
      ]
     },
     "execution_count": 26,
     "metadata": {},
     "output_type": "execute_result"
    }
   ],
   "source": [
    "train_q.isnull().sum()"
   ]
  },
  {
   "cell_type": "code",
   "execution_count": 27,
   "id": "517989fd",
   "metadata": {},
   "outputs": [],
   "source": [
    "train_q.to_csv(\"11_14.csv\", index = True)"
   ]
  },
  {
   "cell_type": "markdown",
   "id": "2023b31b",
   "metadata": {},
   "source": [
    "## 월별"
   ]
  },
  {
   "cell_type": "markdown",
   "id": "0b426e1e",
   "metadata": {},
   "source": [
    "https://dacon.io/competitions/official/235736/codeshare/2835?page=1&dtype=recent\n",
    "밑에 abnormal 발생한 날을 추가하고 싶음."
   ]
  },
  {
   "cell_type": "code",
   "execution_count": 28,
   "id": "9ada042a",
   "metadata": {},
   "outputs": [
    {
     "data": {
      "image/png": "[encoded data removed]",
      "text/plain": [
       "<Figure size 1296x288 with 1 Axes>"
      ]
     },
     "metadata": {
      "needs_background": "light"
     },
     "output_type": "display_data"
    }
   ],
   "source": [
    "train.groupby(['dayofyear'])['CPU'].mean().plot(figsize=(18, 4), lw = 3)\n",
    "(train.groupby(['dayofyear'])['Memory'].mean()*3.2).plot(figsize=(18, 4), lw=3)\n",
    "plt.legend(['CPU', 'Memory'])\n",
    "plt.axvline(x = 183, color = 'r', linestyle = '--',)\n",
    "plt.axvline(x = 214, color = 'r', linestyle = '--',)\n",
    "plt.title('By Month')\n",
    "plt.show()"
   ]
  },
  {
   "cell_type": "code",
   "execution_count": null,
   "id": "f3dea9aa",
   "metadata": {},
   "outputs": [],
   "source": []
  },
  {
   "cell_type": "markdown",
   "id": "139b53c1",
   "metadata": {},
   "source": [
    "## 각 요일별"
   ]
  },
  {
   "cell_type": "markdown",
   "id": "8408571e",
   "metadata": {},
   "source": [
    "https://kibua20.tistory.com/195\n",
    "https://dailyheumsi.tistory.com/98"
   ]
  },
  {
   "cell_type": "markdown",
   "id": "faf48127",
   "metadata": {},
   "source": [
    "화요일에 abnormal이 가장 많이 발생하였고 토요일엔 한 건도 발생하지 않았다.\n",
    "-> 화요일 이상치 확인"
   ]
  },
  {
   "cell_type": "code",
   "execution_count": 29,
   "id": "db2974fe",
   "metadata": {},
   "outputs": [
    {
     "data": {
      "text/plain": [
       "weekday\n",
       "0     2\n",
       "1    14\n",
       "2     8\n",
       "3     2\n",
       "4     3\n",
       "5     0\n",
       "6     4\n",
       "Name: status, dtype: int64"
      ]
     },
     "execution_count": 29,
     "metadata": {},
     "output_type": "execute_result"
    }
   ],
   "source": [
    "train.groupby(['weekday'])['status'].sum()"
   ]
  },
  {
   "cell_type": "code",
   "execution_count": 30,
   "id": "e736b583",
   "metadata": {},
   "outputs": [
    {
     "name": "stdout",
     "output_type": "stream",
     "text": [
      "(0.0, -0.25, 2.0, 0.5)\n",
      "(0.0, 0.75, 14.0, 0.5)\n",
      "(0.0, 1.75, 8.0, 0.5)\n",
      "(0.0, 2.75, 2.0, 0.5)\n",
      "(0.0, 3.75, 3.0, 0.5)\n",
      "(0.0, 4.75, 0.0, 0.5)\n",
      "(0.0, 5.75, 4.0, 0.5)\n"
     ]
    },
    {
     "data": {
      "image/png": "[encoded data removed]",
      "text/plain": [
       "<Figure size 1296x504 with 1 Axes>"
      ]
     },
     "metadata": {
      "needs_background": "light"
     },
     "output_type": "display_data"
    }
   ],
   "source": [
    "ax = (train.groupby(['weekday'])['status'].sum()).plot(kind='barh', figsize=(18, 7))\n",
    "plt.title('status by weekday')\n",
    "for p in ax.patches:\n",
    "    x, y, width, height = p.get_bbox().bounds\n",
    "    print(p.get_bbox().bounds)\n",
    "plt.show()"
   ]
  },
  {
   "cell_type": "markdown",
   "id": "0eb979a1",
   "metadata": {},
   "source": [
    "## 시간대별(9-12/12-3/3-6)"
   ]
  },
  {
   "cell_type": "code",
   "execution_count": 31,
   "id": "0e72315b",
   "metadata": {},
   "outputs": [
    {
     "data": {
      "text/plain": [
       "<AxesSubplot:xlabel='weekday'>"
      ]
     },
     "execution_count": 31,
     "metadata": {},
     "output_type": "execute_result"
    },
    {
     "data": {
      "image/png": "[encoded data removed]",
      "text/plain": [
       "<Figure size 1296x360 with 1 Axes>"
      ]
     },
     "metadata": {
      "needs_background": "light"
     },
     "output_type": "display_data"
    }
   ],
   "source": [
    "(train.groupby(['weekday'])['status'].sum()*3.5).plot(kind='bar', figsize=(18, 5))"
   ]
  },
  {
   "cell_type": "code",
   "execution_count": 32,
   "id": "5aedc356",
   "metadata": {},
   "outputs": [
    {
     "data": {
      "text/plain": [
       "<AxesSubplot:xlabel='hour,Time'>"
      ]
     },
     "execution_count": 32,
     "metadata": {},
     "output_type": "execute_result"
    },
    {
     "data": {
      "image/png": "[encoded data removed]",
      "text/plain": [
       "<Figure size 432x288 with 1 Axes>"
      ]
     },
     "metadata": {
      "needs_background": "light"
     },
     "output_type": "display_data"
    }
   ],
   "source": [
    "# 시간대별 이용비율\n",
    "ax2 = train.groupby(['hour'])['status'].resample(rule='3H').sum()\n",
    "ax2.plot()"
   ]
  },
  {
   "cell_type": "markdown",
   "id": "5a5e1eed",
   "metadata": {},
   "source": [
    "날씨나 주요 뉴스?"
   ]
  }
 ],
 "metadata": {
  "kernelspec": {
   "display_name": "Python 3 (ipykernel)",
   "language": "python",
   "name": "python3"
  },
  "language_info": {
   "codemirror_mode": {
    "name": "ipython",
    "version": 3
   },
   "file_extension": ".py",
   "mimetype": "text/x-python",
   "name": "python",
   "nbconvert_exporter": "python",
   "pygments_lexer": "ipython3",
   "version": "3.9.13"
  }
 },
 "nbformat": 4,
 "nbformat_minor": 5
}
