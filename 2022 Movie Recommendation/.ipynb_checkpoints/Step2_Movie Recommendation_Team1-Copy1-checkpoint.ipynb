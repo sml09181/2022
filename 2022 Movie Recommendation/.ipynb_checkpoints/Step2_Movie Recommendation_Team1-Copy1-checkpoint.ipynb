{
 "cells": [
  {
   "cell_type": "markdown",
   "id": "3ad6bf48",
   "metadata": {},
   "source": [
    "**2277007 김수진 2277021 오유진**"
   ]
  },
  {
   "cell_type": "markdown",
   "id": "550e6255",
   "metadata": {},
   "source": [
    "# 1. Libraries Import"
   ]
  },
  {
   "cell_type": "code",
   "execution_count": 1,
   "id": "93ebe8c5",
   "metadata": {},
   "outputs": [
    {
     "name": "stdout",
     "output_type": "stream",
     "text": [
      "import completed\n"
     ]
    }
   ],
   "source": [
    "import nltk\n",
    "import re\n",
    "import numpy as np\n",
    "import pandas as pd\n",
    "import matplotlib.pyplot as plt\n",
    "import os\n",
    "from tqdm import tqdm\n",
    "import time\n",
    "import umap.umap_ as umap\n",
    "import seaborn as sns\n",
    "from IPython.display import Image\n",
    "from gensim.models import Word2Vec\n",
    "from gensim.models import KeyedVectors\n",
    "from collections import Counter\n",
    "from sklearn.cluster import KMeans\n",
    "import wordcloud\n",
    "from wordcloud import WordCloud\n",
    "from sklearn.manifold import TSNE\n",
    "%matplotlib inline\n",
    "print(\"import completed\")"
   ]
  },
  {
   "cell_type": "markdown",
   "id": "65e78c86",
   "metadata": {},
   "source": [
    "# 2. Loading Data"
   ]
  },
  {
   "cell_type": "markdown",
   "id": "df89ce99",
   "metadata": {},
   "source": [
    "크롤링 단계에서 저장하였던 csv 파일을 불러 온다."
   ]
  },
  {
   "cell_type": "code",
   "execution_count": 2,
   "id": "9a16c130",
   "metadata": {},
   "outputs": [],
   "source": [
    "df = pd.read_csv('./movie.csv', index_col=0)"
   ]
  },
  {
   "cell_type": "code",
   "execution_count": 3,
   "id": "003f8ff2",
   "metadata": {},
   "outputs": [
    {
     "data": {
      "text/plain": [
       "title       0\n",
       "director    0\n",
       "genre       0\n",
       "story       0\n",
       "dtype: int64"
      ]
     },
     "execution_count": 3,
     "metadata": {},
     "output_type": "execute_result"
    }
   ],
   "source": [
    "df.isnull().sum()"
   ]
  },
  {
   "cell_type": "markdown",
   "id": "d5515a14",
   "metadata": {},
   "source": [
    "결측치가 없는 것을 확인할 수 있다."
   ]
  },
  {
   "cell_type": "code",
   "execution_count": 4,
   "id": "a37260d0",
   "metadata": {},
   "outputs": [
    {
     "data": {
      "text/plain": [
       "array(['Crime', 'Action', 'Drama', 'Biography', 'Horror', 'Comedy',\n",
       "       'Adventure', 'Animation', 'Mystery', 'Film', 'Western', 'Fantasy',\n",
       "       'Sci', 'Music'], dtype=object)"
      ]
     },
     "execution_count": 4,
     "metadata": {},
     "output_type": "execute_result"
    }
   ],
   "source": [
    "df['genre'].unique()"
   ]
  },
  {
   "cell_type": "code",
   "execution_count": 5,
   "id": "3aaf409e",
   "metadata": {},
   "outputs": [
    {
     "data": {
      "text/plain": [
       "Drama        122\n",
       "Action       108\n",
       "Crime         79\n",
       "Comedy        59\n",
       "Adventure     44\n",
       "Biography     40\n",
       "Horror        17\n",
       "Animation     13\n",
       "Mystery       10\n",
       "Film           3\n",
       "Western        2\n",
       "Fantasy        1\n",
       "Sci            1\n",
       "Music          1\n",
       "Name: genre, dtype: int64"
      ]
     },
     "execution_count": 5,
     "metadata": {},
     "output_type": "execute_result"
    }
   ],
   "source": [
    "df['genre'].value_counts()"
   ]
  },
  {
   "cell_type": "markdown",
   "id": "ddb57b6f",
   "metadata": {},
   "source": [
    "개수가 20개보다 작은 장르의 영화 데이터를 제거한다."
   ]
  },
  {
   "cell_type": "code",
   "execution_count": 6,
   "id": "9af923b2",
   "metadata": {},
   "outputs": [],
   "source": [
    "del_genre = ['Horror', 'Animation', 'Mystery', 'Film', 'Western', 'Fantasy', 'Sci', 'Music']\n",
    "for genre in del_genre:\n",
    "    idx = df[df['genre'] == genre].index\n",
    "    df.drop(idx, inplace=True)"
   ]
  },
  {
   "cell_type": "code",
   "execution_count": 7,
   "id": "26e45aee",
   "metadata": {},
   "outputs": [
    {
     "data": {
      "text/plain": [
       "Drama        122\n",
       "Action       108\n",
       "Crime         79\n",
       "Comedy        59\n",
       "Adventure     44\n",
       "Biography     40\n",
       "Name: genre, dtype: int64"
      ]
     },
     "execution_count": 7,
     "metadata": {},
     "output_type": "execute_result"
    }
   ],
   "source": [
    "df['genre'].value_counts()"
   ]
  },
  {
   "cell_type": "markdown",
   "id": "050750e3",
   "metadata": {},
   "source": [
    "# 3. Tokenizing and Removing Stopwords"
   ]
  },
  {
   "cell_type": "markdown",
   "id": "83170bd1",
   "metadata": {},
   "source": [
    "tokenize() 함수를 만들어 토큰화와 불용어 제거를 동시에 수행한다."
   ]
  },
  {
   "cell_type": "code",
   "execution_count": 8,
   "id": "a1f0e304",
   "metadata": {},
   "outputs": [],
   "source": [
    "stopwords = nltk.corpus.stopwords.words('english')\n",
    "\n",
    "def tokenize(text):\n",
    "    text = text.split(\" \")\n",
    "    text = \" \".join([token for token in text if token not in stopwords])\n",
    "    tokens = [word.lower() for sent in nltk.sent_tokenize(text) for word in nltk.word_tokenize(sent)]\n",
    "    filtered_tokens = []\n",
    "    for token in tokens:\n",
    "        if re.search('[a-zA-Z]', token):\n",
    "            filtered_tokens.append(token)\n",
    "    return filtered_tokens "
   ]
  },
  {
   "cell_type": "code",
   "execution_count": 9,
   "id": "e85317b4",
   "metadata": {},
   "outputs": [
    {
     "data": {
      "text/html": [
       "<div>\n",
       "<style scoped>\n",
       "    .dataframe tbody tr th:only-of-type {\n",
       "        vertical-align: middle;\n",
       "    }\n",
       "\n",
       "    .dataframe tbody tr th {\n",
       "        vertical-align: top;\n",
       "    }\n",
       "\n",
       "    .dataframe thead th {\n",
       "        text-align: right;\n",
       "    }\n",
       "</style>\n",
       "<table border=\"1\" class=\"dataframe\">\n",
       "  <thead>\n",
       "    <tr style=\"text-align: right;\">\n",
       "      <th></th>\n",
       "      <th>title</th>\n",
       "      <th>director</th>\n",
       "      <th>genre</th>\n",
       "      <th>story</th>\n",
       "      <th>tokenize</th>\n",
       "    </tr>\n",
       "  </thead>\n",
       "  <tbody>\n",
       "    <tr>\n",
       "      <th>0</th>\n",
       "      <td>The Godfather</td>\n",
       "      <td>Francis Ford Coppola</td>\n",
       "      <td>Crime</td>\n",
       "      <td>Cinematographer Gordon Willis earned himself t...</td>\n",
       "      <td>[cinematographer, gordon, willis, earned, nick...</td>\n",
       "    </tr>\n",
       "    <tr>\n",
       "      <th>1</th>\n",
       "      <td>The Silence of the Lambs</td>\n",
       "      <td>Jonathan Demme</td>\n",
       "      <td>Crime</td>\n",
       "      <td>(at around 17 mins) Jodie Foster claims that d...</td>\n",
       "      <td>[at, around, mins, jodie, foster, claims, firs...</td>\n",
       "    </tr>\n",
       "    <tr>\n",
       "      <th>2</th>\n",
       "      <td>Star Wars: Episode V - The Empire Strikes Back</td>\n",
       "      <td>Irvin Kershner</td>\n",
       "      <td>Action</td>\n",
       "      <td>In order to avoid sharing creative rights, Geo...</td>\n",
       "      <td>[in, order, avoid, sharing, creative, rights, ...</td>\n",
       "    </tr>\n",
       "    <tr>\n",
       "      <th>3</th>\n",
       "      <td>The Shawshank Redemption</td>\n",
       "      <td>Frank Darabont</td>\n",
       "      <td>Drama</td>\n",
       "      <td>Chronicles the experiences of a formerly succe...</td>\n",
       "      <td>[chronicles, experiences, formerly, successful...</td>\n",
       "    </tr>\n",
       "    <tr>\n",
       "      <th>4</th>\n",
       "      <td>The Shining</td>\n",
       "      <td>Stanley Kubrick</td>\n",
       "      <td>Drama</td>\n",
       "      <td>For the scene in which Jack breaks down the ba...</td>\n",
       "      <td>[for, scene, jack, breaks, bathroom, door, pro...</td>\n",
       "    </tr>\n",
       "  </tbody>\n",
       "</table>\n",
       "</div>"
      ],
      "text/plain": [
       "                                            title              director  \\\n",
       "0                                   The Godfather  Francis Ford Coppola   \n",
       "1                        The Silence of the Lambs        Jonathan Demme   \n",
       "2  Star Wars: Episode V - The Empire Strikes Back        Irvin Kershner   \n",
       "3                        The Shawshank Redemption        Frank Darabont   \n",
       "4                                     The Shining       Stanley Kubrick   \n",
       "\n",
       "    genre                                              story  \\\n",
       "0   Crime  Cinematographer Gordon Willis earned himself t...   \n",
       "1   Crime  (at around 17 mins) Jodie Foster claims that d...   \n",
       "2  Action  In order to avoid sharing creative rights, Geo...   \n",
       "3   Drama  Chronicles the experiences of a formerly succe...   \n",
       "4   Drama  For the scene in which Jack breaks down the ba...   \n",
       "\n",
       "                                            tokenize  \n",
       "0  [cinematographer, gordon, willis, earned, nick...  \n",
       "1  [at, around, mins, jodie, foster, claims, firs...  \n",
       "2  [in, order, avoid, sharing, creative, rights, ...  \n",
       "3  [chronicles, experiences, formerly, successful...  \n",
       "4  [for, scene, jack, breaks, bathroom, door, pro...  "
      ]
     },
     "execution_count": 9,
     "metadata": {},
     "output_type": "execute_result"
    }
   ],
   "source": [
    "df['tokenize']=df['story'].apply(tokenize)\n",
    "df.head()"
   ]
  },
  {
   "cell_type": "markdown",
   "id": "ce9043ad",
   "metadata": {},
   "source": [
    "# 4. Part-of-Speech Tagging"
   ]
  },
  {
   "cell_type": "markdown",
   "id": "2f4166d8",
   "metadata": {},
   "source": [
    "tokenized_pos() 함수를 정의하여 품사 태깅을 수행한다."
   ]
  },
  {
   "cell_type": "code",
   "execution_count": 10,
   "id": "95a85a03",
   "metadata": {},
   "outputs": [],
   "source": [
    "def tokenized_pos(data):\n",
    "    tokens = [w for w in data]\n",
    "    return nltk.pos_tag(tokens)\n"
   ]
  },
  {
   "cell_type": "code",
   "execution_count": 11,
   "id": "3ee04562",
   "metadata": {},
   "outputs": [
    {
     "data": {
      "text/html": [
       "<div>\n",
       "<style scoped>\n",
       "    .dataframe tbody tr th:only-of-type {\n",
       "        vertical-align: middle;\n",
       "    }\n",
       "\n",
       "    .dataframe tbody tr th {\n",
       "        vertical-align: top;\n",
       "    }\n",
       "\n",
       "    .dataframe thead th {\n",
       "        text-align: right;\n",
       "    }\n",
       "</style>\n",
       "<table border=\"1\" class=\"dataframe\">\n",
       "  <thead>\n",
       "    <tr style=\"text-align: right;\">\n",
       "      <th></th>\n",
       "      <th>title</th>\n",
       "      <th>director</th>\n",
       "      <th>genre</th>\n",
       "      <th>story</th>\n",
       "      <th>tokenize</th>\n",
       "      <th>tokenized_pos</th>\n",
       "    </tr>\n",
       "  </thead>\n",
       "  <tbody>\n",
       "    <tr>\n",
       "      <th>0</th>\n",
       "      <td>The Godfather</td>\n",
       "      <td>Francis Ford Coppola</td>\n",
       "      <td>Crime</td>\n",
       "      <td>Cinematographer Gordon Willis earned himself t...</td>\n",
       "      <td>[cinematographer, gordon, willis, earned, nick...</td>\n",
       "      <td>[(cinematographer, NN), (gordon, NN), (willis,...</td>\n",
       "    </tr>\n",
       "    <tr>\n",
       "      <th>1</th>\n",
       "      <td>The Silence of the Lambs</td>\n",
       "      <td>Jonathan Demme</td>\n",
       "      <td>Crime</td>\n",
       "      <td>(at around 17 mins) Jodie Foster claims that d...</td>\n",
       "      <td>[at, around, mins, jodie, foster, claims, firs...</td>\n",
       "      <td>[(at, IN), (around, IN), (mins, NNS), (jodie, ...</td>\n",
       "    </tr>\n",
       "    <tr>\n",
       "      <th>2</th>\n",
       "      <td>Star Wars: Episode V - The Empire Strikes Back</td>\n",
       "      <td>Irvin Kershner</td>\n",
       "      <td>Action</td>\n",
       "      <td>In order to avoid sharing creative rights, Geo...</td>\n",
       "      <td>[in, order, avoid, sharing, creative, rights, ...</td>\n",
       "      <td>[(in, IN), (order, NN), (avoid, NN), (sharing,...</td>\n",
       "    </tr>\n",
       "    <tr>\n",
       "      <th>3</th>\n",
       "      <td>The Shawshank Redemption</td>\n",
       "      <td>Frank Darabont</td>\n",
       "      <td>Drama</td>\n",
       "      <td>Chronicles the experiences of a formerly succe...</td>\n",
       "      <td>[chronicles, experiences, formerly, successful...</td>\n",
       "      <td>[(chronicles, NNS), (experiences, VBZ), (forme...</td>\n",
       "    </tr>\n",
       "    <tr>\n",
       "      <th>4</th>\n",
       "      <td>The Shining</td>\n",
       "      <td>Stanley Kubrick</td>\n",
       "      <td>Drama</td>\n",
       "      <td>For the scene in which Jack breaks down the ba...</td>\n",
       "      <td>[for, scene, jack, breaks, bathroom, door, pro...</td>\n",
       "      <td>[(for, IN), (scene, NN), (jack, NN), (breaks, ...</td>\n",
       "    </tr>\n",
       "  </tbody>\n",
       "</table>\n",
       "</div>"
      ],
      "text/plain": [
       "                                            title              director  \\\n",
       "0                                   The Godfather  Francis Ford Coppola   \n",
       "1                        The Silence of the Lambs        Jonathan Demme   \n",
       "2  Star Wars: Episode V - The Empire Strikes Back        Irvin Kershner   \n",
       "3                        The Shawshank Redemption        Frank Darabont   \n",
       "4                                     The Shining       Stanley Kubrick   \n",
       "\n",
       "    genre                                              story  \\\n",
       "0   Crime  Cinematographer Gordon Willis earned himself t...   \n",
       "1   Crime  (at around 17 mins) Jodie Foster claims that d...   \n",
       "2  Action  In order to avoid sharing creative rights, Geo...   \n",
       "3   Drama  Chronicles the experiences of a formerly succe...   \n",
       "4   Drama  For the scene in which Jack breaks down the ba...   \n",
       "\n",
       "                                            tokenize  \\\n",
       "0  [cinematographer, gordon, willis, earned, nick...   \n",
       "1  [at, around, mins, jodie, foster, claims, firs...   \n",
       "2  [in, order, avoid, sharing, creative, rights, ...   \n",
       "3  [chronicles, experiences, formerly, successful...   \n",
       "4  [for, scene, jack, breaks, bathroom, door, pro...   \n",
       "\n",
       "                                       tokenized_pos  \n",
       "0  [(cinematographer, NN), (gordon, NN), (willis,...  \n",
       "1  [(at, IN), (around, IN), (mins, NNS), (jodie, ...  \n",
       "2  [(in, IN), (order, NN), (avoid, NN), (sharing,...  \n",
       "3  [(chronicles, NNS), (experiences, VBZ), (forme...  \n",
       "4  [(for, IN), (scene, NN), (jack, NN), (breaks, ...  "
      ]
     },
     "execution_count": 11,
     "metadata": {},
     "output_type": "execute_result"
    }
   ],
   "source": [
    "df['tokenized_pos']=df['tokenize'].apply(tokenized_pos)\n",
    "df.head()"
   ]
  },
  {
   "cell_type": "markdown",
   "id": "b2e2e75f",
   "metadata": {},
   "source": [
    "# 6. Extract Noun, Adjective, Adverb, and Verb"
   ]
  },
  {
   "cell_type": "markdown",
   "id": "5259da7f",
   "metadata": {},
   "source": [
    "https://jdjin3000.tistory.com/15<br>\n",
    "https://mkjjo.github.io/python/2019/07/09/english_preprocessing.html"
   ]
  },
  {
   "cell_type": "markdown",
   "id": "5242d102",
   "metadata": {},
   "source": [
    "영화의 storyline(이하 story)에서는 명사, 형용사, 부사, 그리고 동사가 다른 품사들보다 상대적으로 중요하고, 필수 문장 구성 성분(이후 word2vec 고려)이기 때문에 그렇지 않은 품사의 단어들을 extractNRJV() 함수를 이용하여 걸러 낸다. 고유명사 등은 포함시킨다."
   ]
  },
  {
   "cell_type": "code",
   "execution_count": 12,
   "id": "26decd50",
   "metadata": {},
   "outputs": [],
   "source": [
    "def extractNRJV(text):\n",
    "    NRJV_words = []\n",
    "    for word, pos in text:\n",
    "        if ('NN' in pos or 'RB' in pos or 'JJ' in pos or 'VB' in pos):\n",
    "            NRJV_words.append(word)\n",
    "    return NRJV_words"
   ]
  },
  {
   "cell_type": "code",
   "execution_count": 13,
   "id": "7a888198",
   "metadata": {},
   "outputs": [
    {
     "data": {
      "text/html": [
       "<div>\n",
       "<style scoped>\n",
       "    .dataframe tbody tr th:only-of-type {\n",
       "        vertical-align: middle;\n",
       "    }\n",
       "\n",
       "    .dataframe tbody tr th {\n",
       "        vertical-align: top;\n",
       "    }\n",
       "\n",
       "    .dataframe thead th {\n",
       "        text-align: right;\n",
       "    }\n",
       "</style>\n",
       "<table border=\"1\" class=\"dataframe\">\n",
       "  <thead>\n",
       "    <tr style=\"text-align: right;\">\n",
       "      <th></th>\n",
       "      <th>title</th>\n",
       "      <th>director</th>\n",
       "      <th>genre</th>\n",
       "      <th>story</th>\n",
       "      <th>tokenize</th>\n",
       "      <th>tokenized_pos</th>\n",
       "      <th>extractNRJV</th>\n",
       "    </tr>\n",
       "  </thead>\n",
       "  <tbody>\n",
       "    <tr>\n",
       "      <th>0</th>\n",
       "      <td>The Godfather</td>\n",
       "      <td>Francis Ford Coppola</td>\n",
       "      <td>Crime</td>\n",
       "      <td>Cinematographer Gordon Willis earned himself t...</td>\n",
       "      <td>[cinematographer, gordon, willis, earned, nick...</td>\n",
       "      <td>[(cinematographer, NN), (gordon, NN), (willis,...</td>\n",
       "      <td>[cinematographer, gordon, willis, earned, prin...</td>\n",
       "    </tr>\n",
       "    <tr>\n",
       "      <th>1</th>\n",
       "      <td>The Silence of the Lambs</td>\n",
       "      <td>Jonathan Demme</td>\n",
       "      <td>Crime</td>\n",
       "      <td>(at around 17 mins) Jodie Foster claims that d...</td>\n",
       "      <td>[at, around, mins, jodie, foster, claims, firs...</td>\n",
       "      <td>[(at, IN), (around, IN), (mins, NNS), (jodie, ...</td>\n",
       "      <td>[mins, jodie, foster, claims, first, meeting, ...</td>\n",
       "    </tr>\n",
       "    <tr>\n",
       "      <th>2</th>\n",
       "      <td>Star Wars: Episode V - The Empire Strikes Back</td>\n",
       "      <td>Irvin Kershner</td>\n",
       "      <td>Action</td>\n",
       "      <td>In order to avoid sharing creative rights, Geo...</td>\n",
       "      <td>[in, order, avoid, sharing, creative, rights, ...</td>\n",
       "      <td>[(in, IN), (order, NN), (avoid, NN), (sharing,...</td>\n",
       "      <td>[order, avoid, sharing, creative, rights, geor...</td>\n",
       "    </tr>\n",
       "    <tr>\n",
       "      <th>3</th>\n",
       "      <td>The Shawshank Redemption</td>\n",
       "      <td>Frank Darabont</td>\n",
       "      <td>Drama</td>\n",
       "      <td>Chronicles the experiences of a formerly succe...</td>\n",
       "      <td>[chronicles, experiences, formerly, successful...</td>\n",
       "      <td>[(chronicles, NNS), (experiences, VBZ), (forme...</td>\n",
       "      <td>[chronicles, experiences, formerly, successful...</td>\n",
       "    </tr>\n",
       "    <tr>\n",
       "      <th>4</th>\n",
       "      <td>The Shining</td>\n",
       "      <td>Stanley Kubrick</td>\n",
       "      <td>Drama</td>\n",
       "      <td>For the scene in which Jack breaks down the ba...</td>\n",
       "      <td>[for, scene, jack, breaks, bathroom, door, pro...</td>\n",
       "      <td>[(for, IN), (scene, NN), (jack, NN), (breaks, ...</td>\n",
       "      <td>[scene, jack, breaks, bathroom, door, props, d...</td>\n",
       "    </tr>\n",
       "  </tbody>\n",
       "</table>\n",
       "</div>"
      ],
      "text/plain": [
       "                                            title              director  \\\n",
       "0                                   The Godfather  Francis Ford Coppola   \n",
       "1                        The Silence of the Lambs        Jonathan Demme   \n",
       "2  Star Wars: Episode V - The Empire Strikes Back        Irvin Kershner   \n",
       "3                        The Shawshank Redemption        Frank Darabont   \n",
       "4                                     The Shining       Stanley Kubrick   \n",
       "\n",
       "    genre                                              story  \\\n",
       "0   Crime  Cinematographer Gordon Willis earned himself t...   \n",
       "1   Crime  (at around 17 mins) Jodie Foster claims that d...   \n",
       "2  Action  In order to avoid sharing creative rights, Geo...   \n",
       "3   Drama  Chronicles the experiences of a formerly succe...   \n",
       "4   Drama  For the scene in which Jack breaks down the ba...   \n",
       "\n",
       "                                            tokenize  \\\n",
       "0  [cinematographer, gordon, willis, earned, nick...   \n",
       "1  [at, around, mins, jodie, foster, claims, firs...   \n",
       "2  [in, order, avoid, sharing, creative, rights, ...   \n",
       "3  [chronicles, experiences, formerly, successful...   \n",
       "4  [for, scene, jack, breaks, bathroom, door, pro...   \n",
       "\n",
       "                                       tokenized_pos  \\\n",
       "0  [(cinematographer, NN), (gordon, NN), (willis,...   \n",
       "1  [(at, IN), (around, IN), (mins, NNS), (jodie, ...   \n",
       "2  [(in, IN), (order, NN), (avoid, NN), (sharing,...   \n",
       "3  [(chronicles, NNS), (experiences, VBZ), (forme...   \n",
       "4  [(for, IN), (scene, NN), (jack, NN), (breaks, ...   \n",
       "\n",
       "                                         extractNRJV  \n",
       "0  [cinematographer, gordon, willis, earned, prin...  \n",
       "1  [mins, jodie, foster, claims, first, meeting, ...  \n",
       "2  [order, avoid, sharing, creative, rights, geor...  \n",
       "3  [chronicles, experiences, formerly, successful...  \n",
       "4  [scene, jack, breaks, bathroom, door, props, d...  "
      ]
     },
     "execution_count": 13,
     "metadata": {},
     "output_type": "execute_result"
    }
   ],
   "source": [
    "df['extractNRJV']=df['tokenized_pos'].apply(extractNRJV)\n",
    "df.head()"
   ]
  },
  {
   "cell_type": "markdown",
   "id": "7f1e3c2b",
   "metadata": {},
   "source": [
    "# 7. Lemmatization"
   ]
  },
  {
   "cell_type": "markdown",
   "id": "793b0ff3",
   "metadata": {},
   "source": [
    "단어들로부터 표제어(Lemma, 기본 사전형 단어)를 찾아가는 과정인 표제어 추출을 수행한다. NLTK에서 지원하는 WordNetLemmatizer()를 사용한다."
   ]
  },
  {
   "cell_type": "code",
   "execution_count": 14,
   "id": "12e5ce5c",
   "metadata": {},
   "outputs": [],
   "source": [
    "wlem = nltk.WordNetLemmatizer()\n",
    "\n",
    "def lemmatize(text):\n",
    "    lemmatized_words = []\n",
    "    for word in text:\n",
    "        new_word = wlem.lemmatize(word)\n",
    "        lemmatized_words.append(new_word)\n",
    "    return lemmatized_words\n"
   ]
  },
  {
   "cell_type": "code",
   "execution_count": 15,
   "id": "7ec3f86a",
   "metadata": {
    "scrolled": true
   },
   "outputs": [
    {
     "data": {
      "text/html": [
       "<div>\n",
       "<style scoped>\n",
       "    .dataframe tbody tr th:only-of-type {\n",
       "        vertical-align: middle;\n",
       "    }\n",
       "\n",
       "    .dataframe tbody tr th {\n",
       "        vertical-align: top;\n",
       "    }\n",
       "\n",
       "    .dataframe thead th {\n",
       "        text-align: right;\n",
       "    }\n",
       "</style>\n",
       "<table border=\"1\" class=\"dataframe\">\n",
       "  <thead>\n",
       "    <tr style=\"text-align: right;\">\n",
       "      <th></th>\n",
       "      <th>title</th>\n",
       "      <th>director</th>\n",
       "      <th>genre</th>\n",
       "      <th>story</th>\n",
       "      <th>tokenize</th>\n",
       "      <th>tokenized_pos</th>\n",
       "      <th>extractNRJV</th>\n",
       "      <th>lemmatized</th>\n",
       "    </tr>\n",
       "  </thead>\n",
       "  <tbody>\n",
       "    <tr>\n",
       "      <th>0</th>\n",
       "      <td>The Godfather</td>\n",
       "      <td>Francis Ford Coppola</td>\n",
       "      <td>Crime</td>\n",
       "      <td>Cinematographer Gordon Willis earned himself t...</td>\n",
       "      <td>[cinematographer, gordon, willis, earned, nick...</td>\n",
       "      <td>[(cinematographer, NN), (gordon, NN), (willis,...</td>\n",
       "      <td>[cinematographer, gordon, willis, earned, prin...</td>\n",
       "      <td>[cinematographer, gordon, willis, earned, prin...</td>\n",
       "    </tr>\n",
       "    <tr>\n",
       "      <th>1</th>\n",
       "      <td>The Silence of the Lambs</td>\n",
       "      <td>Jonathan Demme</td>\n",
       "      <td>Crime</td>\n",
       "      <td>(at around 17 mins) Jodie Foster claims that d...</td>\n",
       "      <td>[at, around, mins, jodie, foster, claims, firs...</td>\n",
       "      <td>[(at, IN), (around, IN), (mins, NNS), (jodie, ...</td>\n",
       "      <td>[mins, jodie, foster, claims, first, meeting, ...</td>\n",
       "      <td>[min, jodie, foster, claim, first, meeting, dr...</td>\n",
       "    </tr>\n",
       "    <tr>\n",
       "      <th>2</th>\n",
       "      <td>Star Wars: Episode V - The Empire Strikes Back</td>\n",
       "      <td>Irvin Kershner</td>\n",
       "      <td>Action</td>\n",
       "      <td>In order to avoid sharing creative rights, Geo...</td>\n",
       "      <td>[in, order, avoid, sharing, creative, rights, ...</td>\n",
       "      <td>[(in, IN), (order, NN), (avoid, NN), (sharing,...</td>\n",
       "      <td>[order, avoid, sharing, creative, rights, geor...</td>\n",
       "      <td>[order, avoid, sharing, creative, right, georg...</td>\n",
       "    </tr>\n",
       "    <tr>\n",
       "      <th>3</th>\n",
       "      <td>The Shawshank Redemption</td>\n",
       "      <td>Frank Darabont</td>\n",
       "      <td>Drama</td>\n",
       "      <td>Chronicles the experiences of a formerly succe...</td>\n",
       "      <td>[chronicles, experiences, formerly, successful...</td>\n",
       "      <td>[(chronicles, NNS), (experiences, VBZ), (forme...</td>\n",
       "      <td>[chronicles, experiences, formerly, successful...</td>\n",
       "      <td>[chronicle, experience, formerly, successful, ...</td>\n",
       "    </tr>\n",
       "    <tr>\n",
       "      <th>4</th>\n",
       "      <td>The Shining</td>\n",
       "      <td>Stanley Kubrick</td>\n",
       "      <td>Drama</td>\n",
       "      <td>For the scene in which Jack breaks down the ba...</td>\n",
       "      <td>[for, scene, jack, breaks, bathroom, door, pro...</td>\n",
       "      <td>[(for, IN), (scene, NN), (jack, NN), (breaks, ...</td>\n",
       "      <td>[scene, jack, breaks, bathroom, door, props, d...</td>\n",
       "      <td>[scene, jack, break, bathroom, door, prop, dep...</td>\n",
       "    </tr>\n",
       "  </tbody>\n",
       "</table>\n",
       "</div>"
      ],
      "text/plain": [
       "                                            title              director  \\\n",
       "0                                   The Godfather  Francis Ford Coppola   \n",
       "1                        The Silence of the Lambs        Jonathan Demme   \n",
       "2  Star Wars: Episode V - The Empire Strikes Back        Irvin Kershner   \n",
       "3                        The Shawshank Redemption        Frank Darabont   \n",
       "4                                     The Shining       Stanley Kubrick   \n",
       "\n",
       "    genre                                              story  \\\n",
       "0   Crime  Cinematographer Gordon Willis earned himself t...   \n",
       "1   Crime  (at around 17 mins) Jodie Foster claims that d...   \n",
       "2  Action  In order to avoid sharing creative rights, Geo...   \n",
       "3   Drama  Chronicles the experiences of a formerly succe...   \n",
       "4   Drama  For the scene in which Jack breaks down the ba...   \n",
       "\n",
       "                                            tokenize  \\\n",
       "0  [cinematographer, gordon, willis, earned, nick...   \n",
       "1  [at, around, mins, jodie, foster, claims, firs...   \n",
       "2  [in, order, avoid, sharing, creative, rights, ...   \n",
       "3  [chronicles, experiences, formerly, successful...   \n",
       "4  [for, scene, jack, breaks, bathroom, door, pro...   \n",
       "\n",
       "                                       tokenized_pos  \\\n",
       "0  [(cinematographer, NN), (gordon, NN), (willis,...   \n",
       "1  [(at, IN), (around, IN), (mins, NNS), (jodie, ...   \n",
       "2  [(in, IN), (order, NN), (avoid, NN), (sharing,...   \n",
       "3  [(chronicles, NNS), (experiences, VBZ), (forme...   \n",
       "4  [(for, IN), (scene, NN), (jack, NN), (breaks, ...   \n",
       "\n",
       "                                         extractNRJV  \\\n",
       "0  [cinematographer, gordon, willis, earned, prin...   \n",
       "1  [mins, jodie, foster, claims, first, meeting, ...   \n",
       "2  [order, avoid, sharing, creative, rights, geor...   \n",
       "3  [chronicles, experiences, formerly, successful...   \n",
       "4  [scene, jack, breaks, bathroom, door, props, d...   \n",
       "\n",
       "                                          lemmatized  \n",
       "0  [cinematographer, gordon, willis, earned, prin...  \n",
       "1  [min, jodie, foster, claim, first, meeting, dr...  \n",
       "2  [order, avoid, sharing, creative, right, georg...  \n",
       "3  [chronicle, experience, formerly, successful, ...  \n",
       "4  [scene, jack, break, bathroom, door, prop, dep...  "
      ]
     },
     "execution_count": 15,
     "metadata": {},
     "output_type": "execute_result"
    }
   ],
   "source": [
    "df['lemmatized']=df['extractNRJV'].apply(lemmatize)\n",
    "df.head()"
   ]
  },
  {
   "cell_type": "markdown",
   "id": "89378dc0",
   "metadata": {},
   "source": [
    "# 6. Term Vector Representation: Word2Vec"
   ]
  },
  {
   "cell_type": "markdown",
   "id": "14a68c4f",
   "metadata": {},
   "source": [
    "word2vec은 단어마다 차례대로 인덱싱을 하여 벡터화 하지 않고, 유사한 단어들을 비슷한 방향과 힘의 벡터를 갖도록 단어를 벡터화 시켜주는 방법 중 하나이다."
   ]
  },
  {
   "attachments": {
    "w2v.png": {
     "image/png": "[encoded data removed]"
    }
   },
   "cell_type": "markdown",
   "id": "212c95a0",
   "metadata": {},
   "source": [
    "![w2v.png](attachment:w2v.png)"
   ]
  },
  {
   "cell_type": "markdown",
   "id": "99734679",
   "metadata": {},
   "source": [
    "* CBOW: 주변 단어를 통해 주어진 단어를 예측\n",
    "* SKIP-GRAM: 하나의 단어에서 여러 단어를 예측"
   ]
  },
  {
   "cell_type": "markdown",
   "id": "6a7e192a",
   "metadata": {},
   "source": [
    "https://simonezz.tistory.com/35<br>\n",
    "https://monetd.github.io/python/nlp/Word-Embedding-Word2Vec-%EC%8B%A4%EC%8A%B5/<br>\n",
    "https://www.kaggle.com/code/pierremegret/gensim-word2vec-tutorial/notebook"
   ]
  },
  {
   "cell_type": "code",
   "execution_count": 17,
   "id": "3ae5cc24",
   "metadata": {},
   "outputs": [],
   "source": [
    "result = list(df['lemmatized'])\n",
    "model = Word2Vec(sentences=result, vector_size=100,window=5, min_count=3, workers=4, sg=0)\n"
   ]
  },
  {
   "cell_type": "markdown",
   "id": "a29b2009",
   "metadata": {},
   "source": [
    "* size : 만들어질 워드 벡터의 차원\n",
    "* window : 컨텍스트 윈도우의 크기. 컨텍스트 윈도우는 단어 앞과 뒤에서 몇개 단어를 볼것인지를 정하는 크기이다.\n",
    "* min_count = 단어 최소 빈도수의 임계치(이 임계치보다 적은 단어는 훈련시키지 않는다.)\n",
    "* workers = 학습에 이용하는 프로세스의 갯수\n",
    "* sg = 0 일 경우: CBOW, 1 일 경우: Skip-gram\n"
   ]
  },
  {
   "cell_type": "markdown",
   "id": "26689395",
   "metadata": {},
   "source": [
    "error: __init__() got an unexpected keyword argument 'size'<br>\n",
    "solution: use 'vector_size'<br>\n",
    "https://stackoverflow.com/questions/53195906/getting-init-got-an-unexpected-keyword-argument-document-this-error-in"
   ]
  },
  {
   "cell_type": "markdown",
   "id": "f96eb6d4",
   "metadata": {},
   "source": [
    "**단어 유사도 확인**"
   ]
  },
  {
   "cell_type": "code",
   "execution_count": 18,
   "id": "32353fcc",
   "metadata": {},
   "outputs": [
    {
     "data": {
      "text/plain": [
       "[('becomes', 0.9736735820770264),\n",
       " ('idealistic', 0.9722161293029785),\n",
       " ('criminal', 0.9717040657997131),\n",
       " ('jewish', 0.9683260917663574),\n",
       " ('rican', 0.966177225112915),\n",
       " ('mysterious', 0.9659498929977417),\n",
       " ('avenge', 0.9659265875816345),\n",
       " ('known', 0.9654639363288879),\n",
       " ('william', 0.965243399143219),\n",
       " ('berg', 0.9647824168205261)]"
      ]
     },
     "execution_count": 18,
     "metadata": {},
     "output_type": "execute_result"
    }
   ],
   "source": [
    "model_result1 = model.wv.most_similar(\"murder\")\n",
    "model_result1"
   ]
  },
  {
   "cell_type": "code",
   "execution_count": 19,
   "id": "2468812f",
   "metadata": {},
   "outputs": [
    {
     "data": {
      "text/plain": [
       "[('story', 0.9296778440475464),\n",
       " ('relationship', 0.9148262739181519),\n",
       " ('life', 0.9127005934715271),\n",
       " ('little', 0.9074392318725586),\n",
       " ('real', 0.905475378036499),\n",
       " ('brother', 0.9050593972206116),\n",
       " ('much', 0.8963150382041931),\n",
       " ('best', 0.8946431875228882),\n",
       " ('true', 0.88739413022995),\n",
       " ('live', 0.8864702582359314)]"
      ]
     },
     "execution_count": 19,
     "metadata": {},
     "output_type": "execute_result"
    }
   ],
   "source": [
    "model_result2 = model.wv.most_similar(\"love\")\n",
    "model_result2"
   ]
  },
  {
   "cell_type": "code",
   "execution_count": 20,
   "id": "72b426fd",
   "metadata": {},
   "outputs": [],
   "source": [
    "word_vectors = model.wv\n",
    "vocabs = list(model.wv.key_to_index)\n",
    "word_vectors_list = [word_vectors[v] for v in vocabs]"
   ]
  },
  {
   "cell_type": "code",
   "execution_count": 21,
   "id": "3bfca6df",
   "metadata": {},
   "outputs": [
    {
     "data": {
      "text/plain": [
       "16550"
      ]
     },
     "execution_count": 21,
     "metadata": {},
     "output_type": "execute_result"
    }
   ],
   "source": [
    "len(word_vectors_list)"
   ]
  },
  {
   "cell_type": "code",
   "execution_count": 22,
   "id": "c0bb8549",
   "metadata": {},
   "outputs": [
    {
     "data": {
      "text/plain": [
       "[array([-0.06696419,  0.64881027,  0.28627855,  0.61962813, -0.34368983,\n",
       "        -1.619831  ,  0.04352411,  0.9102347 ,  0.1955448 , -0.44689336,\n",
       "         1.1188949 , -0.96189004, -0.14392644,  0.8011277 ,  0.1480908 ,\n",
       "        -0.1923742 ,  0.66977334, -0.7177262 ,  0.08799364, -1.0566012 ,\n",
       "        -0.26419184, -0.06297033,  1.5095582 ,  0.13850163, -0.10447059,\n",
       "         0.67994857, -0.69611484,  0.19255275, -1.0552586 ,  0.57404774,\n",
       "         0.66769105, -0.92960924,  0.21398726, -2.0494487 , -0.47619793,\n",
       "         0.6624634 ,  0.05722519, -0.865596  , -0.32188267, -0.16372903,\n",
       "        -0.36377245, -0.6875603 , -1.3103216 , -0.34978482,  0.8657775 ,\n",
       "        -0.78086346, -0.3753996 , -0.36001053,  0.40749952,  0.5480206 ,\n",
       "        -0.2922977 , -0.03997659, -0.46117127,  0.19043538, -0.12458275,\n",
       "        -0.5573023 , -0.01542536,  0.11194263, -0.9457466 ,  0.41830853,\n",
       "         0.17697398, -0.8131833 ,  0.45084926,  0.99296093, -0.43361765,\n",
       "         0.00551294, -0.05712168,  0.11723138, -1.0103729 ,  0.7719462 ,\n",
       "        -0.03834536,  0.51070654,  1.0320584 ,  0.6356832 ,  0.15009561,\n",
       "         0.14689411, -0.12155126, -1.3090925 , -0.5087878 , -0.5695756 ,\n",
       "        -0.6302583 , -0.7795756 ,  0.07122276,  1.2367129 , -0.15676272,\n",
       "         0.18954302,  0.3865255 ,  0.7703245 ,  0.70657617,  0.76760185,\n",
       "         1.2213393 , -0.3142145 ,  0.13344264, -0.17834611,  0.835526  ,\n",
       "         0.8238513 , -0.2849159 , -0.5257635 , -0.65310425,  0.13172784],\n",
       "       dtype=float32),\n",
       " array([-0.3320484 ,  0.49956292, -0.07705302,  0.23572776,  0.08191751,\n",
       "        -0.807783  ,  0.17683616,  1.6596829 ,  0.13477853, -0.51734865,\n",
       "        -0.19754998, -0.8771549 , -0.3291265 , -0.01241231,  0.29228714,\n",
       "        -0.40276015,  0.3696858 , -0.10253328,  0.23253393, -1.0412656 ,\n",
       "         0.1245558 , -0.3852529 ,  0.30659664, -0.5171977 , -0.20477922,\n",
       "         0.02045432, -0.5969914 , -0.02829679,  0.18134168,  0.3980145 ,\n",
       "         0.27963954, -0.00494724, -0.03834398, -1.092225  , -0.41970527,\n",
       "         0.46126872,  0.3386969 , -0.2105224 , -0.23335484, -0.6802908 ,\n",
       "        -0.16700105, -0.33411282, -0.10087102, -0.37718678,  0.44924515,\n",
       "         0.01696208,  0.38423747, -0.15927683,  0.2889588 ,  0.4374763 ,\n",
       "         0.09395994, -0.44568327, -0.10803984,  0.293263  , -0.3757543 ,\n",
       "        -0.0376124 ,  0.2776692 ,  0.11446635, -0.11758121,  0.5359224 ,\n",
       "        -0.0736072 , -0.05297284, -0.4625541 ,  0.21926877, -0.6835633 ,\n",
       "         0.31089705,  0.400813  , -0.09310739, -0.07317535,  0.9241016 ,\n",
       "        -0.06098495, -0.45115766,  0.844112  ,  0.38387224,  0.3633003 ,\n",
       "         0.51939243, -0.21575439,  0.30556884, -0.39581373,  0.30336455,\n",
       "        -1.0607864 ,  0.08793736, -0.75630033,  0.3137167 ,  0.4855249 ,\n",
       "        -0.40998337,  0.063719  ,  0.16896608,  0.34012562, -0.35650837,\n",
       "         0.4802751 ,  0.04000058,  0.3031374 , -0.30194432,  0.8467963 ,\n",
       "         0.01946654,  0.46850452, -0.45676082,  0.11819531,  0.19583675],\n",
       "       dtype=float32)]"
      ]
     },
     "execution_count": 22,
     "metadata": {},
     "output_type": "execute_result"
    }
   ],
   "source": [
    "word_vectors_list[:2]"
   ]
  },
  {
   "cell_type": "markdown",
   "id": "7c8fcdc2",
   "metadata": {},
   "source": [
    "*error: AttributeError: The vocab attribute was removed from KeyedVector in Gensim 4.0.0.\n",
    "Use KeyedVector's .key_to_index dict, .index_to_key list, and methods .get_vecattr(key, attr) and .set_vecattr(key, attr, new_val) instead.\n",
    "See https://github.com/RaRe-Technologies/gensim/wiki/Migrating-from-Gensim-3.x-to-4<br>\n",
    "sol: model.wv.vocab is deprecated now, and we should use model.vocab instead sol: model.wv.vocab is deprecated now, and we should use model.vocab instead https://github.com/RaRe-Technologies/gensim/issues/1882*"
   ]
  },
  {
   "cell_type": "markdown",
   "id": "b4550f2f",
   "metadata": {},
   "source": [
    "### visualize word2vec embeddings"
   ]
  },
  {
   "cell_type": "markdown",
   "id": "d13ae280",
   "metadata": {},
   "source": [
    "https://sparsh-ai.github.io/rec-tutorials/sequence%20retail/2021/04/24/rec-medium-word2vec.html"
   ]
  },
  {
   "cell_type": "markdown",
   "id": "b9b9cd45",
   "metadata": {},
   "source": [
    "It is always quite helpful to visualize the embeddings that you have created. Over here we have 100 dimensional embeddings. We can't even visualize 4 dimensions let alone 100. Therefore, we are going to reduce the dimensions of the product embeddings from 100 to 2 by using the UMAP algorithm, it is used for dimensionality reduction."
   ]
  },
  {
   "cell_type": "code",
   "execution_count": 23,
   "id": "59e45a59",
   "metadata": {},
   "outputs": [
    {
     "data": {
      "image/png": "[encoded data removed]",
      "text/plain": [
       "<Figure size 1000x900 with 1 Axes>"
      ]
     },
     "metadata": {},
     "output_type": "display_data"
    }
   ],
   "source": [
    "X = model.wv.vectors\n",
    "cluster_embedding = umap.UMAP(n_neighbors=30, min_dist=0.0,\n",
    "                              n_components=2, random_state=42).fit_transform(X)\n",
    "\n",
    "plt.figure(figsize=(10,9))\n",
    "plt.scatter(cluster_embedding[:, 0], cluster_embedding[:, 1], s=3, cmap='Spectral');\n"
   ]
  },
  {
   "cell_type": "markdown",
   "id": "69f0cfd2",
   "metadata": {},
   "source": [
    "*error: AttributeError: module 'umap' has no attribute 'UMAP'<br>\n",
    "sol: https://stackoverflow.com/questions/57242208/how-to-resolve-the-error-module-umap-has-no-attribute-umap-i-tried-installi*"
   ]
  },
  {
   "cell_type": "markdown",
   "id": "3231a28d",
   "metadata": {},
   "source": [
    "Every dot in this plot is a story. As you can see, there are several tiny clusters of these datapoints. These are groups of similar movies."
   ]
  },
  {
   "cell_type": "markdown",
   "id": "14c1458b",
   "metadata": {},
   "source": [
    "**모델 저장하기**"
   ]
  },
  {
   "cell_type": "code",
   "execution_count": 24,
   "id": "9f33d197",
   "metadata": {},
   "outputs": [
    {
     "name": "stderr",
     "output_type": "stream",
     "text": [
      "C:\\Users\\2277007\\AppData\\Local\\Temp\\ipykernel_16612\\1485929418.py:1: DeprecationWarning: Call to deprecated `init_sims` (Gensim 4.0.0 implemented internal optimizations that make calls to init_sims() unnecessary. init_sims() is now obsoleted and will be completely removed in future versions. See https://github.com/RaRe-Technologies/gensim/wiki/Migrating-from-Gensim-3.x-to-4).\n",
      "  model.init_sims(replace=True) # 학습이 완료되면 필요없는 메모리를 unload 시킴.\n"
     ]
    }
   ],
   "source": [
    "model.init_sims(replace=True) # 학습이 완료되면 필요없는 메모리를 unload 시킴.\n",
    "model.wv.save_word2vec_format('story_w2v.model') # 모델 저장\n",
    "model.save(\"model.bin\")"
   ]
  },
  {
   "cell_type": "markdown",
   "id": "cc5133ab",
   "metadata": {},
   "source": [
    "*error: 1459 with open(fname, 'rb') as f:\n",
    "1460 return _pickle.load(f, encoding='latin1') UnpicklingError: invalid load key, '8'<br>\n",
    "sol: bin 파일도 함께 저장 https://www.guru99.com/word-embedding-word2vec.html*"
   ]
  },
  {
   "cell_type": "markdown",
   "id": "722f21b5",
   "metadata": {},
   "source": [
    "# 6. Sent Vector Representation: Sentence2Vec"
   ]
  },
  {
   "cell_type": "code",
   "execution_count": 25,
   "id": "bdfde552",
   "metadata": {},
   "outputs": [],
   "source": [
    "model2 = Word2Vec.load(\"model.bin\")"
   ]
  },
  {
   "cell_type": "code",
   "execution_count": 26,
   "id": "031823c4",
   "metadata": {},
   "outputs": [],
   "source": [
    "word_dict = {}\n",
    "for vocab in model2.wv.index_to_key:\n",
    "    word_dict[vocab] = model2.wv[vocab]"
   ]
  },
  {
   "cell_type": "code",
   "execution_count": 27,
   "id": "658de186",
   "metadata": {},
   "outputs": [
    {
     "data": {
      "text/plain": [
       "16550"
      ]
     },
     "execution_count": 27,
     "metadata": {},
     "output_type": "execute_result"
    }
   ],
   "source": [
    "len(word_dict)"
   ]
  },
  {
   "cell_type": "markdown",
   "id": "d8aef033",
   "metadata": {},
   "source": [
    "column 여러 개 선택: https://hleecaster.com/python-pandas-selecting-data/"
   ]
  },
  {
   "cell_type": "code",
   "execution_count": 28,
   "id": "ce562904",
   "metadata": {},
   "outputs": [
    {
     "data": {
      "text/html": [
       "<div>\n",
       "<style scoped>\n",
       "    .dataframe tbody tr th:only-of-type {\n",
       "        vertical-align: middle;\n",
       "    }\n",
       "\n",
       "    .dataframe tbody tr th {\n",
       "        vertical-align: top;\n",
       "    }\n",
       "\n",
       "    .dataframe thead th {\n",
       "        text-align: right;\n",
       "    }\n",
       "</style>\n",
       "<table border=\"1\" class=\"dataframe\">\n",
       "  <thead>\n",
       "    <tr style=\"text-align: right;\">\n",
       "      <th></th>\n",
       "      <th>title</th>\n",
       "      <th>genre</th>\n",
       "      <th>director</th>\n",
       "      <th>lemmatized</th>\n",
       "    </tr>\n",
       "  </thead>\n",
       "  <tbody>\n",
       "    <tr>\n",
       "      <th>495</th>\n",
       "      <td>Drive</td>\n",
       "      <td>Action</td>\n",
       "      <td>Nicolas Winding Refn</td>\n",
       "      <td>[preparation, role, ryan, gosling, restored, c...</td>\n",
       "    </tr>\n",
       "    <tr>\n",
       "      <th>496</th>\n",
       "      <td>American Psycho</td>\n",
       "      <td>Crime</td>\n",
       "      <td>Mary Harron</td>\n",
       "      <td>[production, christian, bale, followed, mornin...</td>\n",
       "    </tr>\n",
       "    <tr>\n",
       "      <th>497</th>\n",
       "      <td>Pirates of the Caribbean: At World's End</td>\n",
       "      <td>Action</td>\n",
       "      <td>Gore Verbinski</td>\n",
       "      <td>[elizabeth, captain, barbossa, rescue, captain...</td>\n",
       "    </tr>\n",
       "    <tr>\n",
       "      <th>498</th>\n",
       "      <td>Anything for Her</td>\n",
       "      <td>Crime</td>\n",
       "      <td>Fred Cavayé</td>\n",
       "      <td>[prison, seen, film, actually, combination, fi...</td>\n",
       "    </tr>\n",
       "    <tr>\n",
       "      <th>499</th>\n",
       "      <td>A Single Man</td>\n",
       "      <td>Drama</td>\n",
       "      <td>Tom Ford</td>\n",
       "      <td>[february, bafta, best, actor, colin, firth, l...</td>\n",
       "    </tr>\n",
       "  </tbody>\n",
       "</table>\n",
       "</div>"
      ],
      "text/plain": [
       "                                        title   genre              director  \\\n",
       "495                                     Drive  Action  Nicolas Winding Refn   \n",
       "496                           American Psycho   Crime           Mary Harron   \n",
       "497  Pirates of the Caribbean: At World's End  Action        Gore Verbinski   \n",
       "498                          Anything for Her   Crime           Fred Cavayé   \n",
       "499                              A Single Man   Drama              Tom Ford   \n",
       "\n",
       "                                            lemmatized  \n",
       "495  [preparation, role, ryan, gosling, restored, c...  \n",
       "496  [production, christian, bale, followed, mornin...  \n",
       "497  [elizabeth, captain, barbossa, rescue, captain...  \n",
       "498  [prison, seen, film, actually, combination, fi...  \n",
       "499  [february, bafta, best, actor, colin, firth, l...  "
      ]
     },
     "execution_count": 28,
     "metadata": {},
     "output_type": "execute_result"
    }
   ],
   "source": [
    "df_ = df[['title', 'genre','director', 'lemmatized']]\n",
    "df_.tail()"
   ]
  },
  {
   "cell_type": "code",
   "execution_count": 29,
   "id": "a6f15d7d",
   "metadata": {},
   "outputs": [
    {
     "name": "stderr",
     "output_type": "stream",
     "text": [
      "C:\\Users\\2277007\\AppData\\Local\\Temp\\ipykernel_16612\\4128438321.py:2: SettingWithCopyWarning: \n",
      "A value is trying to be set on a copy of a slice from a DataFrame.\n",
      "Try using .loc[row_indexer,col_indexer] = value instead\n",
      "\n",
      "See the caveats in the documentation: https://pandas.pydata.org/pandas-docs/stable/user_guide/indexing.html#returning-a-view-versus-a-copy\n",
      "  df_['lemmatized'] = [' '.join(map(str, l)) for l in df_['lemmatized']]\n"
     ]
    }
   ],
   "source": [
    "dict_story_vector = {}\n",
    "df_['lemmatized'] = [' '.join(map(str, l)) for l in df_['lemmatized']]\n",
    "\n",
    "for idx in df_.index:\n",
    "    list_vector = []\n",
    "    for word in df_.loc[idx]['lemmatized'].split():\n",
    "        if word in word_dict.keys():\n",
    "            list_vector.append(word_dict[word])\n",
    "    dict_story_vector[df_.loc[idx]['title']] = np.sum(list_vector, axis=0).tolist()\n",
    "    "
   ]
  },
  {
   "cell_type": "code",
   "execution_count": 30,
   "id": "c559c954",
   "metadata": {},
   "outputs": [
    {
     "name": "stderr",
     "output_type": "stream",
     "text": [
      "C:\\Users\\2277007\\AppData\\Local\\Temp\\ipykernel_16612\\3515406240.py:1: SettingWithCopyWarning: \n",
      "A value is trying to be set on a copy of a slice from a DataFrame.\n",
      "Try using .loc[row_indexer,col_indexer] = value instead\n",
      "\n",
      "See the caveats in the documentation: https://pandas.pydata.org/pandas-docs/stable/user_guide/indexing.html#returning-a-view-versus-a-copy\n",
      "  df_['vector'] = df_['title'].map(dict_story_vector)\n"
     ]
    },
    {
     "data": {
      "text/html": [
       "<div>\n",
       "<style scoped>\n",
       "    .dataframe tbody tr th:only-of-type {\n",
       "        vertical-align: middle;\n",
       "    }\n",
       "\n",
       "    .dataframe tbody tr th {\n",
       "        vertical-align: top;\n",
       "    }\n",
       "\n",
       "    .dataframe thead th {\n",
       "        text-align: right;\n",
       "    }\n",
       "</style>\n",
       "<table border=\"1\" class=\"dataframe\">\n",
       "  <thead>\n",
       "    <tr style=\"text-align: right;\">\n",
       "      <th></th>\n",
       "      <th>title</th>\n",
       "      <th>genre</th>\n",
       "      <th>director</th>\n",
       "      <th>lemmatized</th>\n",
       "      <th>vector</th>\n",
       "    </tr>\n",
       "  </thead>\n",
       "  <tbody>\n",
       "    <tr>\n",
       "      <th>495</th>\n",
       "      <td>Drive</td>\n",
       "      <td>Action</td>\n",
       "      <td>Nicolas Winding Refn</td>\n",
       "      <td>preparation role ryan gosling restored chevy m...</td>\n",
       "      <td>[-43.94108200073242, 64.78821563720703, 20.429...</td>\n",
       "    </tr>\n",
       "    <tr>\n",
       "      <th>496</th>\n",
       "      <td>American Psycho</td>\n",
       "      <td>Crime</td>\n",
       "      <td>Mary Harron</td>\n",
       "      <td>production christian bale followed morning rou...</td>\n",
       "      <td>[-278.2373046875, 540.9296875, 194.29771423339...</td>\n",
       "    </tr>\n",
       "    <tr>\n",
       "      <th>497</th>\n",
       "      <td>Pirates of the Caribbean: At World's End</td>\n",
       "      <td>Action</td>\n",
       "      <td>Gore Verbinski</td>\n",
       "      <td>elizabeth captain barbossa rescue captain jack...</td>\n",
       "      <td>[-44.06388473510742, 31.542987823486328, 31.83...</td>\n",
       "    </tr>\n",
       "    <tr>\n",
       "      <th>498</th>\n",
       "      <td>Anything for Her</td>\n",
       "      <td>Crime</td>\n",
       "      <td>Fred Cavayé</td>\n",
       "      <td>prison seen film actually combination filming ...</td>\n",
       "      <td>[-0.6728956699371338, 6.8871378898620605, 1.36...</td>\n",
       "    </tr>\n",
       "    <tr>\n",
       "      <th>499</th>\n",
       "      <td>A Single Man</td>\n",
       "      <td>Drama</td>\n",
       "      <td>Tom Ford</td>\n",
       "      <td>february bafta best actor colin firth list peo...</td>\n",
       "      <td>[-7.690861225128174, 36.5792350769043, 5.73674...</td>\n",
       "    </tr>\n",
       "  </tbody>\n",
       "</table>\n",
       "</div>"
      ],
      "text/plain": [
       "                                        title   genre              director  \\\n",
       "495                                     Drive  Action  Nicolas Winding Refn   \n",
       "496                           American Psycho   Crime           Mary Harron   \n",
       "497  Pirates of the Caribbean: At World's End  Action        Gore Verbinski   \n",
       "498                          Anything for Her   Crime           Fred Cavayé   \n",
       "499                              A Single Man   Drama              Tom Ford   \n",
       "\n",
       "                                            lemmatized  \\\n",
       "495  preparation role ryan gosling restored chevy m...   \n",
       "496  production christian bale followed morning rou...   \n",
       "497  elizabeth captain barbossa rescue captain jack...   \n",
       "498  prison seen film actually combination filming ...   \n",
       "499  february bafta best actor colin firth list peo...   \n",
       "\n",
       "                                                vector  \n",
       "495  [-43.94108200073242, 64.78821563720703, 20.429...  \n",
       "496  [-278.2373046875, 540.9296875, 194.29771423339...  \n",
       "497  [-44.06388473510742, 31.542987823486328, 31.83...  \n",
       "498  [-0.6728956699371338, 6.8871378898620605, 1.36...  \n",
       "499  [-7.690861225128174, 36.5792350769043, 5.73674...  "
      ]
     },
     "execution_count": 30,
     "metadata": {},
     "output_type": "execute_result"
    }
   ],
   "source": [
    "df_['vector'] = df_['title'].map(dict_story_vector)\n",
    "df_.tail()"
   ]
  },
  {
   "cell_type": "code",
   "execution_count": 31,
   "id": "0fb787fb",
   "metadata": {},
   "outputs": [
    {
     "data": {
      "text/plain": [
       "100"
      ]
     },
     "execution_count": 31,
     "metadata": {},
     "output_type": "execute_result"
    }
   ],
   "source": [
    "len(df_['vector'][0])"
   ]
  },
  {
   "cell_type": "markdown",
   "id": "9fdd6232",
   "metadata": {},
   "source": [
    "# 7. Creating Movie Vector"
   ]
  },
  {
   "cell_type": "markdown",
   "id": "522ef2b7",
   "metadata": {},
   "source": [
    "영화 벡터는 스토리 벡터들을 가중평균하여 구했다."
   ]
  },
  {
   "cell_type": "code",
   "execution_count": 32,
   "id": "740022ee",
   "metadata": {},
   "outputs": [
    {
     "data": {
      "text/plain": [
       "Int64Index([  0,   1,   2,   3,   4,   5,   6,   7,   8,   9,\n",
       "            ...\n",
       "            488, 490, 491, 493, 494, 495, 496, 497, 498, 499],\n",
       "           dtype='int64', length=452)"
      ]
     },
     "execution_count": 32,
     "metadata": {},
     "output_type": "execute_result"
    }
   ],
   "source": [
    "df_.index"
   ]
  },
  {
   "cell_type": "code",
   "execution_count": 33,
   "id": "1c64719b",
   "metadata": {},
   "outputs": [
    {
     "data": {
      "text/plain": [
       "'[4.687230110168457, 47.76346206665039, 7.32428503036499, -41.99908447265625]'"
      ]
     },
     "execution_count": 33,
     "metadata": {},
     "output_type": "execute_result"
    }
   ],
   "source": [
    "str(df_['vector'][0][:4])"
   ]
  },
  {
   "cell_type": "code",
   "execution_count": 34,
   "id": "fd919024",
   "metadata": {},
   "outputs": [
    {
     "ename": "IndexError",
     "evalue": "single positional indexer is out-of-bounds",
     "output_type": "error",
     "traceback": [
      "\u001b[1;31m---------------------------------------------------------------------------\u001b[0m",
      "\u001b[1;31mIndexError\u001b[0m                                Traceback (most recent call last)",
      "Cell \u001b[1;32mIn[34], line 3\u001b[0m\n\u001b[0;32m      1\u001b[0m movie_vector_list \u001b[38;5;241m=\u001b[39m []\n\u001b[0;32m      2\u001b[0m \u001b[38;5;28;01mfor\u001b[39;00m idx \u001b[38;5;129;01min\u001b[39;00m df_\u001b[38;5;241m.\u001b[39mindex:\n\u001b[1;32m----> 3\u001b[0m     v_array \u001b[38;5;241m=\u001b[39m np\u001b[38;5;241m.\u001b[39marray([\u001b[38;5;28mfloat\u001b[39m(i) \u001b[38;5;28;01mfor\u001b[39;00m i \u001b[38;5;129;01min\u001b[39;00m \u001b[38;5;28mstr\u001b[39m(\u001b[43mdf_\u001b[49m\u001b[43m[\u001b[49m\u001b[38;5;124;43m'\u001b[39;49m\u001b[38;5;124;43mvector\u001b[39;49m\u001b[38;5;124;43m'\u001b[39;49m\u001b[43m]\u001b[49m\u001b[38;5;241;43m.\u001b[39;49m\u001b[43miloc\u001b[49m\u001b[43m[\u001b[49m\u001b[43midx\u001b[49m\u001b[43m]\u001b[49m)[\u001b[38;5;241m1\u001b[39m:\u001b[38;5;241m-\u001b[39m\u001b[38;5;241m1\u001b[39m]\u001b[38;5;241m.\u001b[39msplit(\u001b[38;5;124m'\u001b[39m\u001b[38;5;124m, \u001b[39m\u001b[38;5;124m'\u001b[39m)])\n\u001b[0;32m      4\u001b[0m     movie_vector_list\u001b[38;5;241m.\u001b[39mappend(v_array)\n\u001b[0;32m      5\u001b[0m df_v \u001b[38;5;241m=\u001b[39m pd\u001b[38;5;241m.\u001b[39mDataFrame(movie_vector_list)\n",
      "File \u001b[1;32mC:\\ProgramData\\Anaconda3\\lib\\site-packages\\pandas\\core\\indexing.py:967\u001b[0m, in \u001b[0;36m_LocationIndexer.__getitem__\u001b[1;34m(self, key)\u001b[0m\n\u001b[0;32m    964\u001b[0m axis \u001b[38;5;241m=\u001b[39m \u001b[38;5;28mself\u001b[39m\u001b[38;5;241m.\u001b[39maxis \u001b[38;5;129;01mor\u001b[39;00m \u001b[38;5;241m0\u001b[39m\n\u001b[0;32m    966\u001b[0m maybe_callable \u001b[38;5;241m=\u001b[39m com\u001b[38;5;241m.\u001b[39mapply_if_callable(key, \u001b[38;5;28mself\u001b[39m\u001b[38;5;241m.\u001b[39mobj)\n\u001b[1;32m--> 967\u001b[0m \u001b[38;5;28;01mreturn\u001b[39;00m \u001b[38;5;28;43mself\u001b[39;49m\u001b[38;5;241;43m.\u001b[39;49m\u001b[43m_getitem_axis\u001b[49m\u001b[43m(\u001b[49m\u001b[43mmaybe_callable\u001b[49m\u001b[43m,\u001b[49m\u001b[43m \u001b[49m\u001b[43maxis\u001b[49m\u001b[38;5;241;43m=\u001b[39;49m\u001b[43maxis\u001b[49m\u001b[43m)\u001b[49m\n",
      "File \u001b[1;32mC:\\ProgramData\\Anaconda3\\lib\\site-packages\\pandas\\core\\indexing.py:1523\u001b[0m, in \u001b[0;36m_iLocIndexer._getitem_axis\u001b[1;34m(self, key, axis)\u001b[0m\n\u001b[0;32m   1520\u001b[0m     \u001b[38;5;28;01mraise\u001b[39;00m \u001b[38;5;167;01mTypeError\u001b[39;00m(\u001b[38;5;124m\"\u001b[39m\u001b[38;5;124mCannot index by location index with a non-integer key\u001b[39m\u001b[38;5;124m\"\u001b[39m)\n\u001b[0;32m   1522\u001b[0m \u001b[38;5;66;03m# validate the location\u001b[39;00m\n\u001b[1;32m-> 1523\u001b[0m \u001b[38;5;28;43mself\u001b[39;49m\u001b[38;5;241;43m.\u001b[39;49m\u001b[43m_validate_integer\u001b[49m\u001b[43m(\u001b[49m\u001b[43mkey\u001b[49m\u001b[43m,\u001b[49m\u001b[43m \u001b[49m\u001b[43maxis\u001b[49m\u001b[43m)\u001b[49m\n\u001b[0;32m   1525\u001b[0m \u001b[38;5;28;01mreturn\u001b[39;00m \u001b[38;5;28mself\u001b[39m\u001b[38;5;241m.\u001b[39mobj\u001b[38;5;241m.\u001b[39m_ixs(key, axis\u001b[38;5;241m=\u001b[39maxis)\n",
      "File \u001b[1;32mC:\\ProgramData\\Anaconda3\\lib\\site-packages\\pandas\\core\\indexing.py:1455\u001b[0m, in \u001b[0;36m_iLocIndexer._validate_integer\u001b[1;34m(self, key, axis)\u001b[0m\n\u001b[0;32m   1453\u001b[0m len_axis \u001b[38;5;241m=\u001b[39m \u001b[38;5;28mlen\u001b[39m(\u001b[38;5;28mself\u001b[39m\u001b[38;5;241m.\u001b[39mobj\u001b[38;5;241m.\u001b[39m_get_axis(axis))\n\u001b[0;32m   1454\u001b[0m \u001b[38;5;28;01mif\u001b[39;00m key \u001b[38;5;241m>\u001b[39m\u001b[38;5;241m=\u001b[39m len_axis \u001b[38;5;129;01mor\u001b[39;00m key \u001b[38;5;241m<\u001b[39m \u001b[38;5;241m-\u001b[39mlen_axis:\n\u001b[1;32m-> 1455\u001b[0m     \u001b[38;5;28;01mraise\u001b[39;00m \u001b[38;5;167;01mIndexError\u001b[39;00m(\u001b[38;5;124m\"\u001b[39m\u001b[38;5;124msingle positional indexer is out-of-bounds\u001b[39m\u001b[38;5;124m\"\u001b[39m)\n",
      "\u001b[1;31mIndexError\u001b[0m: single positional indexer is out-of-bounds"
     ]
    }
   ],
   "source": [
    "movie_vector_list = []\n",
    "for idx in df_.index:\n",
    "    v_array = np.array([float(i) for i in str(df_['vector'].iloc[idx])[1:-1].split(', ')])\n",
    "    movie_vector_list.append(v_array)\n",
    "df_v = pd.DataFrame(movie_vector_list)\n",
    "df_v"
   ]
  },
  {
   "cell_type": "code",
   "execution_count": null,
   "id": "cee31e23",
   "metadata": {},
   "outputs": [],
   "source": [
    "df_v.insert(0, \"title\", df_['title'].values.tolist())\n",
    "df_v.insert(1, \"genre\", df_['genre'].values.tolist())\n",
    "df_v .head()"
   ]
  },
  {
   "cell_type": "code",
   "execution_count": null,
   "id": "70fbf720",
   "metadata": {},
   "outputs": [],
   "source": [
    "df_v.describe()"
   ]
  },
  {
   "cell_type": "markdown",
   "id": "43ab5576",
   "metadata": {},
   "source": [
    "# 7. Visualizing Movie Vector"
   ]
  },
  {
   "cell_type": "code",
   "execution_count": null,
   "id": "980a1346",
   "metadata": {},
   "outputs": [],
   "source": [
    "tsne = TSNE(n_components=2) # 2차원으로"
   ]
  },
  {
   "cell_type": "code",
   "execution_count": null,
   "id": "f04d33a4",
   "metadata": {},
   "outputs": [],
   "source": [
    "v_tsne = tsne.fit_transform(df_v.iloc[:, 2:])\n",
    "df_tsne = pd.DataFrame(v_tsne, index=df_v['title'].tolist(), columns=['x', 'y']).reset_index()\n",
    "df_tsne.insert(1, \"genre\", df_['genre'].values.tolist())\n",
    "df_tsne.head()\n"
   ]
  },
  {
   "cell_type": "code",
   "execution_count": null,
   "id": "c0a072a2",
   "metadata": {},
   "outputs": [],
   "source": [
    "fig, ax = plt.subplots(figsize=(11.7, 8.27))\n",
    "sns.scatterplot(ax=ax, data=df_tsne, x=\"x\", y=\"y\", hue='genre')"
   ]
  },
  {
   "cell_type": "markdown",
   "id": "8ee864ed",
   "metadata": {},
   "source": [
    "스토리를 바탕으로 영화를 벡터로 만들면 장르와 상관없이 골고루 섞여있는 것을 확인할 수 있다."
   ]
  },
  {
   "cell_type": "markdown",
   "id": "baca0279",
   "metadata": {},
   "source": [
    "# 8. Clustering and WordCloud"
   ]
  },
  {
   "cell_type": "markdown",
   "id": "b8c5ce83",
   "metadata": {},
   "source": [
    "### 1) Dendrogram으로 cluster 개수 정하기"
   ]
  },
  {
   "cell_type": "code",
   "execution_count": null,
   "id": "712c97e9",
   "metadata": {
    "scrolled": true
   },
   "outputs": [],
   "source": [
    "import scipy.cluster.hierarchy as shc\n",
    "data = df_tsne.iloc[:, 2:].values\n",
    "\n",
    "plt.figure(figsize=(10, 7))\n",
    "plt.title(\"Movies Dendograms\")\n",
    "dend = shc.dendrogram(shc.linkage(data, method='ward'))\n"
   ]
  },
  {
   "cell_type": "code",
   "execution_count": null,
   "id": "a96659c6",
   "metadata": {},
   "outputs": [],
   "source": [
    "from sklearn.metrics import silhouette_score\n",
    "range_n_clusters = range(4,15)\n",
    "\n",
    "for n_clusters in range_n_clusters:\n",
    "    clusterer = KMeans(n_clusters=n_clusters)\n",
    "    preds = clusterer.fit_predict(df_tsne[['x','y']])\n",
    "    centers = clusterer.cluster_centers_\n",
    "\n",
    "    score = silhouette_score(df_tsne[['x','y']], preds)\n",
    "    print(\"For n_clusters = {}, silhouette score is {}\".format(n_clusters, round(score, 4)))"
   ]
  },
  {
   "cell_type": "markdown",
   "id": "a58e37cc",
   "metadata": {},
   "source": [
    "Silhouette를 계산해본 결과 9개로 클러스터를 나누었을 때 가장 설명력이 높은 것을 확인할 수 있었다."
   ]
  },
  {
   "cell_type": "markdown",
   "id": "ab332a0a",
   "metadata": {},
   "source": [
    "### 2) Distortion Score Elbow로 cluster 개수 정하기"
   ]
  },
  {
   "cell_type": "code",
   "execution_count": null,
   "id": "f34e84e1",
   "metadata": {
    "scrolled": true
   },
   "outputs": [],
   "source": [
    "from yellowbrick.cluster import KElbowVisualizer\n",
    "model = KMeans()\n",
    "visualizer = KElbowVisualizer(model, k=(4,14), timings = False)\n",
    "visualizer.fit(df_tsne.iloc[:, 2:].values)\n",
    "visualizer.show()"
   ]
  },
  {
   "cell_type": "markdown",
   "id": "ff0ce5fe",
   "metadata": {},
   "source": [
    "### 3) 9개로 클러스터링하기"
   ]
  },
  {
   "cell_type": "code",
   "execution_count": null,
   "id": "ef863f09",
   "metadata": {},
   "outputs": [],
   "source": [
    "model = KMeans(n_clusters=9)\n",
    "\n",
    "model.fit(df_tsne[['x','y']])\n",
    "\n",
    "y_predict = model.fit_predict(df_tsne[['x','y']])"
   ]
  },
  {
   "cell_type": "code",
   "execution_count": null,
   "id": "1124b76a",
   "metadata": {},
   "outputs": [],
   "source": [
    "df_tsne_9 = df_tsne.copy()\n",
    "df_tsne_9['cluster'] = y_predict\n",
    "df_tsne_9.head()"
   ]
  },
  {
   "cell_type": "code",
   "execution_count": null,
   "id": "779e4d4f",
   "metadata": {},
   "outputs": [],
   "source": [
    "plt.figure(figsize=(20, 6))\n",
    "\n",
    "X = df_tsne_9\n",
    "sns.scatterplot(x=X.iloc[:,3], y=X.iloc[:,4], data=df_tsne, hue=model.labels_, palette='coolwarm')\n",
    "plt.scatter(centers[:,0], centers[:,1], c='black', alpha=0.8, s=150)\n",
    "plt.show()"
   ]
  },
  {
   "cell_type": "markdown",
   "id": "3ca4d311",
   "metadata": {},
   "source": [
    "### 4) 6개로 클러스터링하기"
   ]
  },
  {
   "cell_type": "code",
   "execution_count": null,
   "id": "eb8813f6",
   "metadata": {},
   "outputs": [],
   "source": [
    "model = KMeans(n_clusters=6)\n",
    "\n",
    "model.fit(df_tsne[['x','y']])\n",
    "\n",
    "y_predict = model.fit_predict(df_tsne[['x','y']])"
   ]
  },
  {
   "cell_type": "code",
   "execution_count": null,
   "id": "9c8d0756",
   "metadata": {},
   "outputs": [],
   "source": [
    "df_tsne_6 = df_tsne.copy()\n",
    "df_tsne_6['cluster'] = y_predict\n",
    "df_tsne_6.head()"
   ]
  },
  {
   "cell_type": "code",
   "execution_count": null,
   "id": "7cc56dc3",
   "metadata": {},
   "outputs": [],
   "source": [
    "plt.figure(figsize=(20, 6))\n",
    "\n",
    "X = df_tsne_6\n",
    "sns.scatterplot(x=X.iloc[:,3], y=X.iloc[:,4], data=df_tsne, hue=model.labels_, palette='coolwarm')\n",
    "plt.scatter(centers[:,0], centers[:,1], c='black', alpha=0.8, s=150)\n",
    "plt.show()"
   ]
  },
  {
   "cell_type": "markdown",
   "id": "176a60da",
   "metadata": {},
   "source": [
    "### 5) Cluster별 키워드 Wordcloud"
   ]
  },
  {
   "cell_type": "code",
   "execution_count": null,
   "id": "354b4ed6",
   "metadata": {},
   "outputs": [],
   "source": [
    "for num in list(range(0,snt_20_tsne['cluster'].nunique())):\n",
    "    cluster_num = num\n",
    "    print(\"cluster\",cluster_num,\"시작\",\"*\"*50 )\n",
    "\n",
    "    # cluster 내 발의 법안들 모아주기\n",
    "    list_collect_ids = []\n",
    "    print()\n",
    "    for senator in df_tsne[df_tsne['cluster']==cluster_num]['index'].tolist():\n",
    "        list_collect_ids.extend(bills_20_notnull[bills_20_notnull['senators_list'].str.contains(senator)]['BILL_ID'].values)\n",
    "    print(\"cluster 내 발의법안 수: \", len(set(list_collect_ids)), '국회의원 수', len(snt_20[snt_20['cluster']==cluster_num]))\n",
    "\n",
    "    # 공통 발의법안들 모아주기\n",
    "    word_bags_cluster = ''\n",
    "    for i in Counter(list_collect_ids).most_common(round(len(set(list_collect_ids))/20)):\n",
    "        corpus = bills_20[bills_20['BILL_ID']==i[0]]['cleared'].iloc[0]\n",
    "        word_bags_cluster = word_bags_cluster + corpus\n",
    "\n",
    "    # wordcloud 만들기\n",
    "    wc = WordCloud(background_color = \"ivory\",\n",
    "                   font_path = \"/Library/Fonts/NanumSquareRegular.ttf\",\n",
    "                   colormap = \"Reds\",\n",
    "                   collocations = True, \n",
    "                   stopwords = stopwords_,\n",
    "                   mask = mask_array)\n",
    "\n",
    "    # WordCloud 출력하기\n",
    "    wc.generate(word_bags_cluster)\n",
    "    wc.to_image()\n",
    "    "
   ]
  },
  {
   "cell_type": "markdown",
   "id": "74b617a0",
   "metadata": {},
   "source": [
    "# 8. Recommanding"
   ]
  },
  {
   "cell_type": "code",
   "execution_count": null,
   "id": "170ffdbc",
   "metadata": {},
   "outputs": [],
   "source": [
    "def input2vec(user_input, word2vec_word_dict):\n",
    "    tokenized_input = tokenize(user_input)\n",
    "    list_vector = []\n",
    "    for word in tokenized_input:\n",
    "        if word in word_dict.keys():\n",
    "            list_vector.append(word_dict[word])\n",
    "    user_vector = (np.sum(list_vector, axis=0) / len(list_vector)).tolist()\n",
    "    return user_vector"
   ]
  },
  {
   "cell_type": "code",
   "execution_count": null,
   "id": "f6420654",
   "metadata": {},
   "outputs": [],
   "source": [
    "def similar_movies(user_vector, df_snt):\n",
    "    similarity = {}\n",
    "    for idx in df_.index:\n",
    "        if df_.loc[idx]['vector'] != '0.0':\n",
    "            sim = cosine_similarity(np.array(user_vector).reshape(1,-1), np.array([float(i) for i in df_snt.loc[idx]['vector'][1:-1].split(', ')]).reshape(1,-1))\n",
    "        similarity[str(df_snt.loc[idx]['id'])] = float(sim)\n",
    "    similarity = {key: value for key, value in sorted(similarity.items(), key=lambda item: item[1], reverse=True)}\n",
    "    rating = [key for key, value in sorted(similarity.items(), key=lambda item: item[1], reverse=True)]\n",
    "    top_5 = rating[:5]\n",
    "    result = {}\n",
    "    for i in top_5:\n",
    "        result[i] = str(abs(round((similarity[i]*100), 2))) + \"%\"\n",
    "        \n",
    "    return result"
   ]
  },
  {
   "cell_type": "code",
   "execution_count": null,
   "id": "08b98073",
   "metadata": {},
   "outputs": [],
   "source": [
    "def show_story(senators_id_bills, df_bills, df_snt):\n",
    "    result = []\n",
    "    \n",
    "    for snt_id in senators_id_bills:\n",
    "        name = df_snt[df_snt['id'] == snt_id]['NAME'].iloc[0]\n",
    "        for bill_id in list(senators_id_bills[snt_id]):\n",
    "            dict_temp = {}\n",
    "            dict_temp['발의자'] = name\n",
    "            dict_temp['법안명'] = df_bills[df_bills['BILL_ID']==bill_id]['BILL_NAME'].iloc[0]\n",
    "            dict_temp['법안내용'] = df_bills[df_bills['BILL_ID']==bill_id]['bill_content'].iloc[0]\n",
    "            result.append(dict_temp)\n",
    "    return result"
   ]
  },
  {
   "cell_type": "code",
   "execution_count": null,
   "id": "8a38dae6",
   "metadata": {},
   "outputs": [],
   "source": [
    "def show_results(df_results, dict_images):\n",
    "    for snt in df_results['발의자'].unique():\n",
    "        display(Image('./images/'+snt+'.jpg'))\n",
    "        print(\"{} 의원\".format(snt))\n",
    "        df_temp = df_results[df_results['발의자']==snt]\n",
    "        for idx in df_temp.index:\n",
    "            print(\"*\"*30, df_temp.loc[idx]['법안명'], \"*\"*30)\n",
    "            print(df_temp.loc[idx]['법안내용'], '\\n')"
   ]
  },
  {
   "cell_type": "code",
   "execution_count": null,
   "id": "fde02ba9",
   "metadata": {},
   "outputs": [],
   "source": [
    "def show_results"
   ]
  },
  {
   "cell_type": "code",
   "execution_count": null,
   "id": "9646f3d8",
   "metadata": {},
   "outputs": [],
   "source": [
    "def user_write():\n",
    "    user_input=input()\n",
    "    user_vector = input2vec(user_input, word_dict)\n",
    "    dict_movie_story = similar_movies(user_vector, bills_notnull, snt, \n",
    "                                        word_dict,list(similar_senators(user_vector, snt)))\n",
    "    show_results(pd.DataFrame(show_story(dict_movie_story, bills_notnull, snt)))"
   ]
  },
  {
   "cell_type": "code",
   "execution_count": null,
   "id": "0d6ef3a1",
   "metadata": {},
   "outputs": [],
   "source": [
    "# I hate murder. I want a movie full of happiness\n",
    "user_write()"
   ]
  },
  {
   "cell_type": "code",
   "execution_count": null,
   "id": "5ea871e6",
   "metadata": {},
   "outputs": [],
   "source": [
    "# I love fantasy movie.\n",
    "user_write()"
   ]
  },
  {
   "cell_type": "markdown",
   "id": "6b25fb14",
   "metadata": {},
   "source": [
    "https://velog.io/@skarb4788/%EB%94%A5%EB%9F%AC%EB%8B%9D-%EC%98%81%ED%99%94-%EC%B6%94%EC%B2%9C-%EC%8B%9C%EC%8A%A4%ED%85%9C"
   ]
  }
 ],
 "metadata": {
  "kernelspec": {
   "display_name": "Python 3 (ipykernel)",
   "language": "python",
   "name": "python3"
  },
  "language_info": {
   "codemirror_mode": {
    "name": "ipython",
    "version": 3
   },
   "file_extension": ".py",
   "mimetype": "text/x-python",
   "name": "python",
   "nbconvert_exporter": "python",
   "pygments_lexer": "ipython3",
   "version": "3.9.15"
  }
 },
 "nbformat": 4,
 "nbformat_minor": 5
}
